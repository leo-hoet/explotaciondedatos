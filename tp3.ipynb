{
 "cells": [
  {
   "cell_type": "code",
   "execution_count": 28,
   "id": "9461b27a",
   "metadata": {},
   "outputs": [
    {
     "data": {
      "text/html": [
       "<div>\n",
       "<style scoped>\n",
       "    .dataframe tbody tr th:only-of-type {\n",
       "        vertical-align: middle;\n",
       "    }\n",
       "\n",
       "    .dataframe tbody tr th {\n",
       "        vertical-align: top;\n",
       "    }\n",
       "\n",
       "    .dataframe thead th {\n",
       "        text-align: right;\n",
       "    }\n",
       "</style>\n",
       "<table border=\"1\" class=\"dataframe\">\n",
       "  <thead>\n",
       "    <tr style=\"text-align: right;\">\n",
       "      <th></th>\n",
       "      <th>Unnamed: 0</th>\n",
       "      <th>fixed.acidity</th>\n",
       "      <th>volatile.acidity</th>\n",
       "      <th>citric.acid</th>\n",
       "      <th>residual.sugar</th>\n",
       "      <th>chlorides</th>\n",
       "      <th>free.sulfur.dioxide</th>\n",
       "      <th>total.sulfur.dioxide</th>\n",
       "      <th>density</th>\n",
       "      <th>pH</th>\n",
       "      <th>sulphates</th>\n",
       "      <th>alcohol</th>\n",
       "      <th>quality</th>\n",
       "    </tr>\n",
       "  </thead>\n",
       "  <tbody>\n",
       "    <tr>\n",
       "      <th>0</th>\n",
       "      <td>1</td>\n",
       "      <td>7.4</td>\n",
       "      <td>0.700</td>\n",
       "      <td>0.00</td>\n",
       "      <td>1.9</td>\n",
       "      <td>0.076</td>\n",
       "      <td>11.0</td>\n",
       "      <td>34.0</td>\n",
       "      <td>0.99780</td>\n",
       "      <td>3.51</td>\n",
       "      <td>0.56</td>\n",
       "      <td>9.4</td>\n",
       "      <td>5</td>\n",
       "    </tr>\n",
       "    <tr>\n",
       "      <th>1</th>\n",
       "      <td>2</td>\n",
       "      <td>7.8</td>\n",
       "      <td>0.880</td>\n",
       "      <td>0.00</td>\n",
       "      <td>2.6</td>\n",
       "      <td>0.098</td>\n",
       "      <td>25.0</td>\n",
       "      <td>67.0</td>\n",
       "      <td>0.99680</td>\n",
       "      <td>3.20</td>\n",
       "      <td>0.68</td>\n",
       "      <td>9.8</td>\n",
       "      <td>5</td>\n",
       "    </tr>\n",
       "    <tr>\n",
       "      <th>2</th>\n",
       "      <td>3</td>\n",
       "      <td>7.8</td>\n",
       "      <td>0.760</td>\n",
       "      <td>0.04</td>\n",
       "      <td>2.3</td>\n",
       "      <td>0.092</td>\n",
       "      <td>15.0</td>\n",
       "      <td>54.0</td>\n",
       "      <td>0.99700</td>\n",
       "      <td>3.26</td>\n",
       "      <td>0.65</td>\n",
       "      <td>9.8</td>\n",
       "      <td>5</td>\n",
       "    </tr>\n",
       "    <tr>\n",
       "      <th>3</th>\n",
       "      <td>4</td>\n",
       "      <td>11.2</td>\n",
       "      <td>0.280</td>\n",
       "      <td>0.56</td>\n",
       "      <td>1.9</td>\n",
       "      <td>0.075</td>\n",
       "      <td>17.0</td>\n",
       "      <td>60.0</td>\n",
       "      <td>0.99800</td>\n",
       "      <td>3.16</td>\n",
       "      <td>0.58</td>\n",
       "      <td>9.8</td>\n",
       "      <td>6</td>\n",
       "    </tr>\n",
       "    <tr>\n",
       "      <th>4</th>\n",
       "      <td>5</td>\n",
       "      <td>7.4</td>\n",
       "      <td>0.700</td>\n",
       "      <td>0.00</td>\n",
       "      <td>1.9</td>\n",
       "      <td>0.076</td>\n",
       "      <td>11.0</td>\n",
       "      <td>34.0</td>\n",
       "      <td>0.99780</td>\n",
       "      <td>3.51</td>\n",
       "      <td>0.56</td>\n",
       "      <td>9.4</td>\n",
       "      <td>5</td>\n",
       "    </tr>\n",
       "    <tr>\n",
       "      <th>...</th>\n",
       "      <td>...</td>\n",
       "      <td>...</td>\n",
       "      <td>...</td>\n",
       "      <td>...</td>\n",
       "      <td>...</td>\n",
       "      <td>...</td>\n",
       "      <td>...</td>\n",
       "      <td>...</td>\n",
       "      <td>...</td>\n",
       "      <td>...</td>\n",
       "      <td>...</td>\n",
       "      <td>...</td>\n",
       "      <td>...</td>\n",
       "    </tr>\n",
       "    <tr>\n",
       "      <th>1594</th>\n",
       "      <td>1595</td>\n",
       "      <td>6.2</td>\n",
       "      <td>0.600</td>\n",
       "      <td>0.08</td>\n",
       "      <td>2.0</td>\n",
       "      <td>0.090</td>\n",
       "      <td>32.0</td>\n",
       "      <td>44.0</td>\n",
       "      <td>0.99490</td>\n",
       "      <td>3.45</td>\n",
       "      <td>0.58</td>\n",
       "      <td>10.5</td>\n",
       "      <td>5</td>\n",
       "    </tr>\n",
       "    <tr>\n",
       "      <th>1595</th>\n",
       "      <td>1596</td>\n",
       "      <td>5.9</td>\n",
       "      <td>0.550</td>\n",
       "      <td>0.10</td>\n",
       "      <td>2.2</td>\n",
       "      <td>0.062</td>\n",
       "      <td>39.0</td>\n",
       "      <td>51.0</td>\n",
       "      <td>0.99512</td>\n",
       "      <td>3.52</td>\n",
       "      <td>0.76</td>\n",
       "      <td>11.2</td>\n",
       "      <td>6</td>\n",
       "    </tr>\n",
       "    <tr>\n",
       "      <th>1596</th>\n",
       "      <td>1597</td>\n",
       "      <td>6.3</td>\n",
       "      <td>0.510</td>\n",
       "      <td>0.13</td>\n",
       "      <td>2.3</td>\n",
       "      <td>0.076</td>\n",
       "      <td>29.0</td>\n",
       "      <td>40.0</td>\n",
       "      <td>0.99574</td>\n",
       "      <td>3.42</td>\n",
       "      <td>0.75</td>\n",
       "      <td>11.0</td>\n",
       "      <td>6</td>\n",
       "    </tr>\n",
       "    <tr>\n",
       "      <th>1597</th>\n",
       "      <td>1598</td>\n",
       "      <td>5.9</td>\n",
       "      <td>0.645</td>\n",
       "      <td>0.12</td>\n",
       "      <td>2.0</td>\n",
       "      <td>0.075</td>\n",
       "      <td>32.0</td>\n",
       "      <td>44.0</td>\n",
       "      <td>0.99547</td>\n",
       "      <td>3.57</td>\n",
       "      <td>0.71</td>\n",
       "      <td>10.2</td>\n",
       "      <td>5</td>\n",
       "    </tr>\n",
       "    <tr>\n",
       "      <th>1598</th>\n",
       "      <td>1599</td>\n",
       "      <td>6.0</td>\n",
       "      <td>0.310</td>\n",
       "      <td>0.47</td>\n",
       "      <td>3.6</td>\n",
       "      <td>0.067</td>\n",
       "      <td>18.0</td>\n",
       "      <td>42.0</td>\n",
       "      <td>0.99549</td>\n",
       "      <td>3.39</td>\n",
       "      <td>0.66</td>\n",
       "      <td>11.0</td>\n",
       "      <td>6</td>\n",
       "    </tr>\n",
       "  </tbody>\n",
       "</table>\n",
       "<p>1599 rows × 13 columns</p>\n",
       "</div>"
      ],
      "text/plain": [
       "      Unnamed: 0  fixed.acidity  volatile.acidity  citric.acid  \\\n",
       "0              1            7.4             0.700         0.00   \n",
       "1              2            7.8             0.880         0.00   \n",
       "2              3            7.8             0.760         0.04   \n",
       "3              4           11.2             0.280         0.56   \n",
       "4              5            7.4             0.700         0.00   \n",
       "...          ...            ...               ...          ...   \n",
       "1594        1595            6.2             0.600         0.08   \n",
       "1595        1596            5.9             0.550         0.10   \n",
       "1596        1597            6.3             0.510         0.13   \n",
       "1597        1598            5.9             0.645         0.12   \n",
       "1598        1599            6.0             0.310         0.47   \n",
       "\n",
       "      residual.sugar  chlorides  free.sulfur.dioxide  total.sulfur.dioxide  \\\n",
       "0                1.9      0.076                 11.0                  34.0   \n",
       "1                2.6      0.098                 25.0                  67.0   \n",
       "2                2.3      0.092                 15.0                  54.0   \n",
       "3                1.9      0.075                 17.0                  60.0   \n",
       "4                1.9      0.076                 11.0                  34.0   \n",
       "...              ...        ...                  ...                   ...   \n",
       "1594             2.0      0.090                 32.0                  44.0   \n",
       "1595             2.2      0.062                 39.0                  51.0   \n",
       "1596             2.3      0.076                 29.0                  40.0   \n",
       "1597             2.0      0.075                 32.0                  44.0   \n",
       "1598             3.6      0.067                 18.0                  42.0   \n",
       "\n",
       "      density    pH  sulphates  alcohol  quality  \n",
       "0     0.99780  3.51       0.56      9.4        5  \n",
       "1     0.99680  3.20       0.68      9.8        5  \n",
       "2     0.99700  3.26       0.65      9.8        5  \n",
       "3     0.99800  3.16       0.58      9.8        6  \n",
       "4     0.99780  3.51       0.56      9.4        5  \n",
       "...       ...   ...        ...      ...      ...  \n",
       "1594  0.99490  3.45       0.58     10.5        5  \n",
       "1595  0.99512  3.52       0.76     11.2        6  \n",
       "1596  0.99574  3.42       0.75     11.0        6  \n",
       "1597  0.99547  3.57       0.71     10.2        5  \n",
       "1598  0.99549  3.39       0.66     11.0        6  \n",
       "\n",
       "[1599 rows x 13 columns]"
      ]
     },
     "execution_count": 28,
     "metadata": {},
     "output_type": "execute_result"
    }
   ],
   "source": [
    "import pandas as pd\n",
    "import numpy as np\n",
    "import seaborn as sns\n",
    "import plotly.express as px\n",
    "import matplotlib.pyplot as plt\n",
    "\n",
    "df = pd.read_csv('../datasets/wineQualityReds.csv')\n",
    "df"
   ]
  },
  {
   "cell_type": "markdown",
   "id": "3ccc4ffc",
   "metadata": {},
   "source": [
    "# Conocimiento de datos"
   ]
  },
  {
   "cell_type": "markdown",
   "id": "0a072313",
   "metadata": {},
   "source": [
    "## Id"
   ]
  },
  {
   "cell_type": "code",
   "execution_count": 11,
   "id": "0ac8dbb7",
   "metadata": {},
   "outputs": [],
   "source": [
    "df.rename(columns={\"Unnamed: 0\": 'id'}, inplace=True)\n",
    "for i in range(0,len(df['id'])):\n",
    "    if not(i == 0):\n",
    "        if ((df['id'][i-1] + 1) != df['id'][i]):\n",
    "            print(\"Missing data at: \",i)"
   ]
  },
  {
   "cell_type": "markdown",
   "id": "8f9047be",
   "metadata": {},
   "source": [
    "## fixed.acidity"
   ]
  },
  {
   "cell_type": "code",
   "execution_count": 24,
   "id": "a684347f",
   "metadata": {},
   "outputs": [
    {
     "name": "stdout",
     "output_type": "stream",
     "text": [
      "count    1599.000000\n",
      "mean        8.319637\n",
      "std         1.741096\n",
      "min         4.600000\n",
      "25%         7.100000\n",
      "50%         7.900000\n",
      "75%         9.200000\n",
      "max        15.900000\n",
      "Name: fixed.acidity, dtype: float64\n",
      "Range:  11.3\n",
      "Intercuartil range:  2.0999999999999996\n"
     ]
    },
    {
     "data": {
      "image/png": "[encoded data removed]",
      "text/plain": [
       "<Figure size 432x288 with 1 Axes>"
      ]
     },
     "metadata": {
      "needs_background": "light"
     },
     "output_type": "display_data"
    },
    {
     "data": {
      "image/png": "[encoded data removed]",
      "text/plain": [
       "<Figure size 432x288 with 1 Axes>"
      ]
     },
     "metadata": {
      "needs_background": "light"
     },
     "output_type": "display_data"
    }
   ],
   "source": [
    "key = 'fixed.acidity'\n",
    "print(df[key].describe())\n",
    "[print(x) for x in pd.isnull(df[key]) if x]\n",
    "print(\"Range: \", max(df[key]) - min(df[key]))\n",
    "print(\"Intercuartil range: \", df[key].quantile(0.75) - df[key].quantile(0.25))\n",
    "sns.histplot(data=df,x=key)\n",
    "plt.show()\n",
    "sns.boxplot(data=df,x=key)\n",
    "plt.show()"
   ]
  },
  {
   "cell_type": "markdown",
   "id": "0b916d06",
   "metadata": {},
   "source": [
    "## volatile.acidity"
   ]
  },
  {
   "cell_type": "code",
   "execution_count": 25,
   "id": "e6db93ac",
   "metadata": {},
   "outputs": [
    {
     "name": "stdout",
     "output_type": "stream",
     "text": [
      "count    1599.000000\n",
      "mean        0.527821\n",
      "std         0.179060\n",
      "min         0.120000\n",
      "25%         0.390000\n",
      "50%         0.520000\n",
      "75%         0.640000\n",
      "max         1.580000\n",
      "Name: volatile.acidity, dtype: float64\n",
      "Range:  1.46\n",
      "Intercuartil range:  0.25\n"
     ]
    },
    {
     "data": {
      "image/png": "[encoded data removed]",
      "text/plain": [
       "<Figure size 432x288 with 1 Axes>"
      ]
     },
     "metadata": {
      "needs_background": "light"
     },
     "output_type": "display_data"
    },
    {
     "data": {
      "image/png": "[encoded data removed]",
      "text/plain": [
       "<Figure size 432x288 with 1 Axes>"
      ]
     },
     "metadata": {
      "needs_background": "light"
     },
     "output_type": "display_data"
    }
   ],
   "source": [
    "key = 'volatile.acidity'\n",
    "print(df[key].describe())\n",
    "[print(x) for x in pd.isnull(df[key]) if x]\n",
    "print(\"Range: \", max(df[key]) - min(df[key]))\n",
    "print(\"Intercuartil range: \", df[key].quantile(0.75) - df[key].quantile(0.25))\n",
    "sns.histplot(data=df,x=key)\n",
    "plt.show()\n",
    "sns.boxplot(data=df,x=key)\n",
    "plt.show()"
   ]
  },
  {
   "cell_type": "markdown",
   "id": "f0e6d92e",
   "metadata": {},
   "source": [
    "## citric.acid"
   ]
  },
  {
   "cell_type": "code",
   "execution_count": 27,
   "id": "09e8177b",
   "metadata": {},
   "outputs": [
    {
     "name": "stdout",
     "output_type": "stream",
     "text": [
      "count    1599.000000\n",
      "mean        0.270976\n",
      "std         0.194801\n",
      "min         0.000000\n",
      "25%         0.090000\n",
      "50%         0.260000\n",
      "75%         0.420000\n",
      "max         1.000000\n",
      "Name: citric.acid, dtype: float64\n",
      "Range:  1.0\n",
      "Intercuartil range:  0.32999999999999996\n"
     ]
    },
    {
     "data": {
      "image/png": "[encoded data removed]",
      "text/plain": [
       "<Figure size 432x288 with 1 Axes>"
      ]
     },
     "metadata": {
      "needs_background": "light"
     },
     "output_type": "display_data"
    },
    {
     "data": {
      "image/png": "[encoded data removed]",
      "text/plain": [
       "<Figure size 432x288 with 1 Axes>"
      ]
     },
     "metadata": {
      "needs_background": "light"
     },
     "output_type": "display_data"
    }
   ],
   "source": [
    "key = 'citric.acid'\n",
    "print(df[key].describe())\n",
    "[print(x) for x in pd.isnull(df[key]) if x]\n",
    "print(\"Range: \", max(df[key]) - min(df[key]))\n",
    "print(\"Intercuartil range: \", df[key].quantile(0.75) - df[key].quantile(0.25))\n",
    "sns.histplot(data=df,x=key)\n",
    "plt.show()\n",
    "sns.boxplot(data=df,x=key)\n",
    "plt.show()"
   ]
  },
  {
   "cell_type": "markdown",
   "id": "7f99f1b5",
   "metadata": {},
   "source": [
    "## residual.sugar"
   ]
  },
  {
   "cell_type": "code",
   "execution_count": 30,
   "id": "c541fa5b",
   "metadata": {},
   "outputs": [
    {
     "name": "stdout",
     "output_type": "stream",
     "text": [
      "count    1599.000000\n",
      "mean        2.538806\n",
      "std         1.409928\n",
      "min         0.900000\n",
      "25%         1.900000\n",
      "50%         2.200000\n",
      "75%         2.600000\n",
      "max        15.500000\n",
      "Name: residual.sugar, dtype: float64\n",
      "Range:  14.6\n",
      "Intercuartil range:  0.7000000000000002\n"
     ]
    },
    {
     "data": {
      "image/png": "[encoded data removed]",
      "text/plain": [
       "<Figure size 432x288 with 1 Axes>"
      ]
     },
     "metadata": {
      "needs_background": "light"
     },
     "output_type": "display_data"
    },
    {
     "data": {
      "image/png": "[encoded data removed]",
      "text/plain": [
       "<Figure size 432x288 with 1 Axes>"
      ]
     },
     "metadata": {
      "needs_background": "light"
     },
     "output_type": "display_data"
    }
   ],
   "source": [
    "key = 'residual.sugar'\n",
    "print(df[key].describe())\n",
    "[print(x) for x in pd.isnull(df[key]) if x]\n",
    "print(\"Range: \", max(df[key]) - min(df[key]))\n",
    "print(\"Intercuartil range: \", df[key].quantile(0.75) - df[key].quantile(0.25))\n",
    "sns.histplot(data=df,x=key)\n",
    "plt.show()\n",
    "sns.boxplot(data=df,x=key)\n",
    "plt.show()"
   ]
  },
  {
   "cell_type": "markdown",
   "id": "0faf8e4e",
   "metadata": {},
   "source": [
    "## chlorides"
   ]
  },
  {
   "cell_type": "code",
   "execution_count": 31,
   "id": "2de62875",
   "metadata": {},
   "outputs": [
    {
     "name": "stdout",
     "output_type": "stream",
     "text": [
      "count    1599.000000\n",
      "mean        0.087467\n",
      "std         0.047065\n",
      "min         0.012000\n",
      "25%         0.070000\n",
      "50%         0.079000\n",
      "75%         0.090000\n",
      "max         0.611000\n",
      "Name: chlorides, dtype: float64\n",
      "Range:  0.599\n",
      "Intercuartil range:  0.01999999999999999\n"
     ]
    },
    {
     "data": {
      "image/png": "[encoded data removed]",
      "text/plain": [
       "<Figure size 432x288 with 1 Axes>"
      ]
     },
     "metadata": {
      "needs_background": "light"
     },
     "output_type": "display_data"
    },
    {
     "data": {
      "image/png": "[encoded data removed]",
      "text/plain": [
       "<Figure size 432x288 with 1 Axes>"
      ]
     },
     "metadata": {
      "needs_background": "light"
     },
     "output_type": "display_data"
    }
   ],
   "source": [
    "key = 'chlorides'\n",
    "print(df[key].describe())\n",
    "[print(x) for x in pd.isnull(df[key]) if x]\n",
    "print(\"Range: \", max(df[key]) - min(df[key]))\n",
    "print(\"Intercuartil range: \", df[key].quantile(0.75) - df[key].quantile(0.25))\n",
    "sns.histplot(data=df,x=key)\n",
    "plt.show()\n",
    "sns.boxplot(data=df,x=key)\n",
    "plt.show()"
   ]
  }
 ],
 "metadata": {
  "kernelspec": {
   "display_name": "Python 3",
   "language": "python",
   "name": "python3"
  },
  "language_info": {
   "codemirror_mode": {
    "name": "ipython",
    "version": 3
   },
   "file_extension": ".py",
   "mimetype": "text/x-python",
   "name": "python",
   "nbconvert_exporter": "python",
   "pygments_lexer": "ipython3",
   "version": "3.8.5"
  }
 },
 "nbformat": 4,
 "nbformat_minor": 5
}
