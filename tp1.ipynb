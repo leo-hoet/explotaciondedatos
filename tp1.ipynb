{
 "cells": [
  {
   "cell_type": "markdown",
   "metadata": {
    "id": "iekffr-_2ulL"
   },
   "source": [
    "# Carga de datos\n"
   ]
  },
  {
   "cell_type": "code",
   "execution_count": 59,
   "metadata": {
    "colab": {
     "base_uri": "https://localhost:8080/",
     "height": 419
    },
    "id": "g5xzSnmXmJIX",
    "outputId": "a3f1742e-c2a0-491a-b888-1fbb9aec1917"
   },
   "outputs": [
    {
     "data": {
      "text/html": [
       "<div>\n",
       "<style scoped>\n",
       "    .dataframe tbody tr th:only-of-type {\n",
       "        vertical-align: middle;\n",
       "    }\n",
       "\n",
       "    .dataframe tbody tr th {\n",
       "        vertical-align: top;\n",
       "    }\n",
       "\n",
       "    .dataframe thead th {\n",
       "        text-align: right;\n",
       "    }\n",
       "</style>\n",
       "<table border=\"1\" class=\"dataframe\">\n",
       "  <thead>\n",
       "    <tr style=\"text-align: right;\">\n",
       "      <th></th>\n",
       "      <th>age</th>\n",
       "      <th>sex</th>\n",
       "      <th>cp</th>\n",
       "      <th>trestbps</th>\n",
       "      <th>chol</th>\n",
       "      <th>fbs</th>\n",
       "      <th>restecg</th>\n",
       "      <th>thalach</th>\n",
       "      <th>exang</th>\n",
       "      <th>oldpeak</th>\n",
       "      <th>slope</th>\n",
       "      <th>ca</th>\n",
       "      <th>thal</th>\n",
       "      <th>target</th>\n",
       "    </tr>\n",
       "  </thead>\n",
       "  <tbody>\n",
       "    <tr>\n",
       "      <th>0</th>\n",
       "      <td>63</td>\n",
       "      <td>1</td>\n",
       "      <td>3</td>\n",
       "      <td>145</td>\n",
       "      <td>233</td>\n",
       "      <td>1</td>\n",
       "      <td>0</td>\n",
       "      <td>150</td>\n",
       "      <td>0</td>\n",
       "      <td>2.3</td>\n",
       "      <td>0</td>\n",
       "      <td>0</td>\n",
       "      <td>1</td>\n",
       "      <td>1</td>\n",
       "    </tr>\n",
       "    <tr>\n",
       "      <th>1</th>\n",
       "      <td>37</td>\n",
       "      <td>1</td>\n",
       "      <td>2</td>\n",
       "      <td>130</td>\n",
       "      <td>250</td>\n",
       "      <td>0</td>\n",
       "      <td>1</td>\n",
       "      <td>187</td>\n",
       "      <td>0</td>\n",
       "      <td>3.5</td>\n",
       "      <td>0</td>\n",
       "      <td>0</td>\n",
       "      <td>2</td>\n",
       "      <td>1</td>\n",
       "    </tr>\n",
       "    <tr>\n",
       "      <th>2</th>\n",
       "      <td>41</td>\n",
       "      <td>0</td>\n",
       "      <td>1</td>\n",
       "      <td>130</td>\n",
       "      <td>204</td>\n",
       "      <td>0</td>\n",
       "      <td>0</td>\n",
       "      <td>172</td>\n",
       "      <td>0</td>\n",
       "      <td>1.4</td>\n",
       "      <td>2</td>\n",
       "      <td>0</td>\n",
       "      <td>2</td>\n",
       "      <td>1</td>\n",
       "    </tr>\n",
       "    <tr>\n",
       "      <th>3</th>\n",
       "      <td>56</td>\n",
       "      <td>1</td>\n",
       "      <td>1</td>\n",
       "      <td>120</td>\n",
       "      <td>236</td>\n",
       "      <td>0</td>\n",
       "      <td>1</td>\n",
       "      <td>178</td>\n",
       "      <td>0</td>\n",
       "      <td>0.8</td>\n",
       "      <td>2</td>\n",
       "      <td>0</td>\n",
       "      <td>2</td>\n",
       "      <td>1</td>\n",
       "    </tr>\n",
       "    <tr>\n",
       "      <th>4</th>\n",
       "      <td>57</td>\n",
       "      <td>0</td>\n",
       "      <td>0</td>\n",
       "      <td>120</td>\n",
       "      <td>354</td>\n",
       "      <td>0</td>\n",
       "      <td>1</td>\n",
       "      <td>163</td>\n",
       "      <td>1</td>\n",
       "      <td>0.6</td>\n",
       "      <td>2</td>\n",
       "      <td>0</td>\n",
       "      <td>2</td>\n",
       "      <td>1</td>\n",
       "    </tr>\n",
       "    <tr>\n",
       "      <th>...</th>\n",
       "      <td>...</td>\n",
       "      <td>...</td>\n",
       "      <td>...</td>\n",
       "      <td>...</td>\n",
       "      <td>...</td>\n",
       "      <td>...</td>\n",
       "      <td>...</td>\n",
       "      <td>...</td>\n",
       "      <td>...</td>\n",
       "      <td>...</td>\n",
       "      <td>...</td>\n",
       "      <td>...</td>\n",
       "      <td>...</td>\n",
       "      <td>...</td>\n",
       "    </tr>\n",
       "    <tr>\n",
       "      <th>298</th>\n",
       "      <td>57</td>\n",
       "      <td>0</td>\n",
       "      <td>0</td>\n",
       "      <td>140</td>\n",
       "      <td>241</td>\n",
       "      <td>0</td>\n",
       "      <td>1</td>\n",
       "      <td>123</td>\n",
       "      <td>1</td>\n",
       "      <td>0.2</td>\n",
       "      <td>1</td>\n",
       "      <td>0</td>\n",
       "      <td>3</td>\n",
       "      <td>0</td>\n",
       "    </tr>\n",
       "    <tr>\n",
       "      <th>299</th>\n",
       "      <td>45</td>\n",
       "      <td>1</td>\n",
       "      <td>3</td>\n",
       "      <td>110</td>\n",
       "      <td>264</td>\n",
       "      <td>0</td>\n",
       "      <td>1</td>\n",
       "      <td>132</td>\n",
       "      <td>0</td>\n",
       "      <td>1.2</td>\n",
       "      <td>1</td>\n",
       "      <td>0</td>\n",
       "      <td>3</td>\n",
       "      <td>0</td>\n",
       "    </tr>\n",
       "    <tr>\n",
       "      <th>300</th>\n",
       "      <td>68</td>\n",
       "      <td>1</td>\n",
       "      <td>0</td>\n",
       "      <td>144</td>\n",
       "      <td>193</td>\n",
       "      <td>1</td>\n",
       "      <td>1</td>\n",
       "      <td>141</td>\n",
       "      <td>0</td>\n",
       "      <td>3.4</td>\n",
       "      <td>1</td>\n",
       "      <td>2</td>\n",
       "      <td>3</td>\n",
       "      <td>0</td>\n",
       "    </tr>\n",
       "    <tr>\n",
       "      <th>301</th>\n",
       "      <td>57</td>\n",
       "      <td>1</td>\n",
       "      <td>0</td>\n",
       "      <td>130</td>\n",
       "      <td>131</td>\n",
       "      <td>0</td>\n",
       "      <td>1</td>\n",
       "      <td>115</td>\n",
       "      <td>1</td>\n",
       "      <td>1.2</td>\n",
       "      <td>1</td>\n",
       "      <td>1</td>\n",
       "      <td>3</td>\n",
       "      <td>0</td>\n",
       "    </tr>\n",
       "    <tr>\n",
       "      <th>302</th>\n",
       "      <td>57</td>\n",
       "      <td>0</td>\n",
       "      <td>1</td>\n",
       "      <td>130</td>\n",
       "      <td>236</td>\n",
       "      <td>0</td>\n",
       "      <td>0</td>\n",
       "      <td>174</td>\n",
       "      <td>0</td>\n",
       "      <td>0.0</td>\n",
       "      <td>1</td>\n",
       "      <td>1</td>\n",
       "      <td>2</td>\n",
       "      <td>0</td>\n",
       "    </tr>\n",
       "  </tbody>\n",
       "</table>\n",
       "<p>303 rows × 14 columns</p>\n",
       "</div>"
      ],
      "text/plain": [
       "     age  sex  cp  trestbps  chol  fbs  restecg  thalach  exang  oldpeak  \\\n",
       "0     63    1   3       145   233    1        0      150      0      2.3   \n",
       "1     37    1   2       130   250    0        1      187      0      3.5   \n",
       "2     41    0   1       130   204    0        0      172      0      1.4   \n",
       "3     56    1   1       120   236    0        1      178      0      0.8   \n",
       "4     57    0   0       120   354    0        1      163      1      0.6   \n",
       "..   ...  ...  ..       ...   ...  ...      ...      ...    ...      ...   \n",
       "298   57    0   0       140   241    0        1      123      1      0.2   \n",
       "299   45    1   3       110   264    0        1      132      0      1.2   \n",
       "300   68    1   0       144   193    1        1      141      0      3.4   \n",
       "301   57    1   0       130   131    0        1      115      1      1.2   \n",
       "302   57    0   1       130   236    0        0      174      0      0.0   \n",
       "\n",
       "     slope  ca  thal  target  \n",
       "0        0   0     1       1  \n",
       "1        0   0     2       1  \n",
       "2        2   0     2       1  \n",
       "3        2   0     2       1  \n",
       "4        2   0     2       1  \n",
       "..     ...  ..   ...     ...  \n",
       "298      1   0     3       0  \n",
       "299      1   0     3       0  \n",
       "300      1   2     3       0  \n",
       "301      1   1     3       0  \n",
       "302      1   1     2       0  \n",
       "\n",
       "[303 rows x 14 columns]"
      ]
     },
     "execution_count": 59,
     "metadata": {},
     "output_type": "execute_result"
    }
   ],
   "source": [
    "import pandas as pd\n",
    "import numpy as np\n",
    "import seaborn as sns\n",
    "df = pd.read_csv('../datasets/heart.csv')\n",
    "df"
   ]
  },
  {
   "cell_type": "code",
   "execution_count": 60,
   "metadata": {
    "colab": {
     "base_uri": "https://localhost:8080/"
    },
    "id": "I9925LjOqO4l",
    "outputId": "557d2b4b-3aea-4645-9573-237804a6c110"
   },
   "outputs": [
    {
     "data": {
      "text/plain": [
       "count     303\n",
       "unique      2\n",
       "top        no\n",
       "freq      165\n",
       "Name: HeartDisease, dtype: object"
      ]
     },
     "execution_count": 60,
     "metadata": {},
     "output_type": "execute_result"
    }
   ],
   "source": [
    "df = df.rename(columns={'target':'HeartDisease'})\n",
    "df.HeartDisease = df.HeartDisease.apply(lambda x: 'yes' if x == 0 else ('no' if x ==1 else 'nan'))\n",
    "df.HeartDisease.describe()\n"
   ]
  },
  {
   "cell_type": "code",
   "execution_count": 61,
   "metadata": {
    "colab": {
     "base_uri": "https://localhost:8080/",
     "height": 142
    },
    "id": "Q_D8gjjbnw1B",
    "outputId": "fa261b78-43a8-42b4-afe1-a9af22080fb4"
   },
   "outputs": [
    {
     "data": {
      "text/html": [
       "<div>\n",
       "<style scoped>\n",
       "    .dataframe tbody tr th:only-of-type {\n",
       "        vertical-align: middle;\n",
       "    }\n",
       "\n",
       "    .dataframe tbody tr th {\n",
       "        vertical-align: top;\n",
       "    }\n",
       "\n",
       "    .dataframe thead th {\n",
       "        text-align: right;\n",
       "    }\n",
       "</style>\n",
       "<table border=\"1\" class=\"dataframe\">\n",
       "  <thead>\n",
       "    <tr style=\"text-align: right;\">\n",
       "      <th></th>\n",
       "      <th>age</th>\n",
       "      <th>sex</th>\n",
       "      <th>cp</th>\n",
       "      <th>trestbps</th>\n",
       "      <th>chol</th>\n",
       "      <th>fbs</th>\n",
       "      <th>restecg</th>\n",
       "      <th>thalach</th>\n",
       "      <th>exang</th>\n",
       "      <th>oldpeak</th>\n",
       "      <th>slope</th>\n",
       "      <th>ca</th>\n",
       "      <th>thal</th>\n",
       "      <th>HeartDisease</th>\n",
       "    </tr>\n",
       "  </thead>\n",
       "  <tbody>\n",
       "    <tr>\n",
       "      <th>0</th>\n",
       "      <td>58.0</td>\n",
       "      <td>1.0</td>\n",
       "      <td>0.0</td>\n",
       "      <td>120.0</td>\n",
       "      <td>197</td>\n",
       "      <td>0.0</td>\n",
       "      <td>1.0</td>\n",
       "      <td>162.0</td>\n",
       "      <td>0.0</td>\n",
       "      <td>0.0</td>\n",
       "      <td>2.0</td>\n",
       "      <td>0.0</td>\n",
       "      <td>2.0</td>\n",
       "      <td>no</td>\n",
       "    </tr>\n",
       "    <tr>\n",
       "      <th>1</th>\n",
       "      <td>NaN</td>\n",
       "      <td>NaN</td>\n",
       "      <td>NaN</td>\n",
       "      <td>NaN</td>\n",
       "      <td>204</td>\n",
       "      <td>NaN</td>\n",
       "      <td>NaN</td>\n",
       "      <td>NaN</td>\n",
       "      <td>NaN</td>\n",
       "      <td>NaN</td>\n",
       "      <td>NaN</td>\n",
       "      <td>NaN</td>\n",
       "      <td>NaN</td>\n",
       "      <td>NaN</td>\n",
       "    </tr>\n",
       "    <tr>\n",
       "      <th>2</th>\n",
       "      <td>NaN</td>\n",
       "      <td>NaN</td>\n",
       "      <td>NaN</td>\n",
       "      <td>NaN</td>\n",
       "      <td>234</td>\n",
       "      <td>NaN</td>\n",
       "      <td>NaN</td>\n",
       "      <td>NaN</td>\n",
       "      <td>NaN</td>\n",
       "      <td>NaN</td>\n",
       "      <td>NaN</td>\n",
       "      <td>NaN</td>\n",
       "      <td>NaN</td>\n",
       "      <td>NaN</td>\n",
       "    </tr>\n",
       "  </tbody>\n",
       "</table>\n",
       "</div>"
      ],
      "text/plain": [
       "    age  sex   cp  trestbps  chol  fbs  restecg  thalach  exang  oldpeak  \\\n",
       "0  58.0  1.0  0.0     120.0   197  0.0      1.0    162.0    0.0      0.0   \n",
       "1   NaN  NaN  NaN       NaN   204  NaN      NaN      NaN    NaN      NaN   \n",
       "2   NaN  NaN  NaN       NaN   234  NaN      NaN      NaN    NaN      NaN   \n",
       "\n",
       "   slope   ca  thal HeartDisease  \n",
       "0    2.0  0.0   2.0           no  \n",
       "1    NaN  NaN   NaN          NaN  \n",
       "2    NaN  NaN   NaN          NaN  "
      ]
     },
     "execution_count": 61,
     "metadata": {},
     "output_type": "execute_result"
    }
   ],
   "source": [
    "df.mode()"
   ]
  },
  {
   "cell_type": "markdown",
   "metadata": {
    "id": "JRayQN5r56cK"
   },
   "source": [
    "# Conocimiento de los datos\n"
   ]
  },
  {
   "cell_type": "markdown",
   "metadata": {
    "id": "eNIKofN-21CX"
   },
   "source": [
    "## Atributo age\n"
   ]
  },
  {
   "cell_type": "code",
   "execution_count": 62,
   "metadata": {
    "colab": {
     "base_uri": "https://localhost:8080/"
    },
    "id": "UJa0Ympm23n4",
    "outputId": "4235678e-d962-40d4-f8aa-052873ccae03"
   },
   "outputs": [
    {
     "data": {
      "text/plain": [
       "count    303.000000\n",
       "mean      54.366337\n",
       "std        9.082101\n",
       "min       29.000000\n",
       "25%       47.500000\n",
       "50%       55.000000\n",
       "75%       61.000000\n",
       "max       77.000000\n",
       "Name: age, dtype: float64"
      ]
     },
     "execution_count": 62,
     "metadata": {},
     "output_type": "execute_result"
    }
   ],
   "source": [
    "df['age'].describe()"
   ]
  },
  {
   "cell_type": "code",
   "execution_count": 63,
   "metadata": {
    "colab": {
     "base_uri": "https://localhost:8080/",
     "height": 282
    },
    "id": "UU8hpC5D28Zt",
    "outputId": "d6960aba-831f-4cd9-aa67-7ed32b93d0df"
   },
   "outputs": [
    {
     "data": {
      "text/plain": [
       "<AxesSubplot:ylabel='Frequency'>"
      ]
     },
     "execution_count": 63,
     "metadata": {},
     "output_type": "execute_result"
    },
    {
     "data": {
      "image/png": "[encoded data removed]",
      "text/plain": [
       "<Figure size 432x288 with 1 Axes>"
      ]
     },
     "metadata": {
      "needs_background": "light"
     },
     "output_type": "display_data"
    }
   ],
   "source": [
    "df['age'].plot(kind='hist', xlabel='age', ylabel='Frecuencia')"
   ]
  },
  {
   "cell_type": "code",
   "execution_count": 64,
   "metadata": {
    "colab": {
     "base_uri": "https://localhost:8080/",
     "height": 296
    },
    "id": "cGAKYZNYEhHt",
    "outputId": "431f2fc6-c581-421c-a0f0-b201d73991f0"
   },
   "outputs": [
    {
     "data": {
      "text/plain": [
       "<AxesSubplot:xlabel='HeartDisease', ylabel='age'>"
      ]
     },
     "execution_count": 64,
     "metadata": {},
     "output_type": "execute_result"
    },
    {
     "data": {
      "image/png": "[encoded data removed]",
      "text/plain": [
       "<Figure size 432x288 with 1 Axes>"
      ]
     },
     "metadata": {
      "needs_background": "light"
     },
     "output_type": "display_data"
    }
   ],
   "source": [
    "sns.boxplot(data=df[df.age.notna()], x='HeartDisease', y='age')"
   ]
  },
  {
   "cell_type": "code",
   "execution_count": 65,
   "metadata": {
    "colab": {
     "base_uri": "https://localhost:8080/",
     "height": 296
    },
    "id": "rEZBZBXHZbS6",
    "outputId": "02975782-bab8-4712-c6fc-6e5b13244b05"
   },
   "outputs": [
    {
     "data": {
      "text/plain": [
       "<AxesSubplot:xlabel='age'>"
      ]
     },
     "execution_count": 65,
     "metadata": {},
     "output_type": "execute_result"
    },
    {
     "data": {
      "image/png": "[encoded data removed]",
      "text/plain": [
       "<Figure size 432x288 with 1 Axes>"
      ]
     },
     "metadata": {
      "needs_background": "light"
     },
     "output_type": "display_data"
    }
   ],
   "source": [
    "sns.boxplot(data=df[df.age.notna()], x='age')"
   ]
  },
  {
   "cell_type": "markdown",
   "metadata": {
    "id": "l6fG19Zg3hPG"
   },
   "source": [
    "## Atributo sex"
   ]
  },
  {
   "cell_type": "code",
   "execution_count": 66,
   "metadata": {
    "colab": {
     "base_uri": "https://localhost:8080/",
     "height": 293
    },
    "id": "-96FxKtK3jCp",
    "outputId": "b7dc771a-37e1-4cdf-97a2-f3a8f258fcb0"
   },
   "outputs": [
    {
     "data": {
      "text/plain": [
       "<AxesSubplot:xlabel='sex', ylabel='Frecuencia'>"
      ]
     },
     "execution_count": 66,
     "metadata": {},
     "output_type": "execute_result"
    },
    {
     "data": {
      "image/png": "[encoded data removed]",
      "text/plain": [
       "<Figure size 432x288 with 1 Axes>"
      ]
     },
     "metadata": {
      "needs_background": "light"
     },
     "output_type": "display_data"
    }
   ],
   "source": [
    "df['sex'].value_counts().plot(kind='bar', xlabel='sex', ylabel='Frecuencia')"
   ]
  },
  {
   "cell_type": "markdown",
   "metadata": {
    "id": "c3K0tX4T4v1E"
   },
   "source": [
    "## Atributo trestbps\n",
    "Resting blood pressure. Presión de la sangre en reposo en [mm Hg] al momento de admitirlo en el hospital."
   ]
  },
  {
   "cell_type": "code",
   "execution_count": 67,
   "metadata": {
    "colab": {
     "base_uri": "https://localhost:8080/"
    },
    "id": "ZVZhM98T403R",
    "outputId": "360b33dd-d0a3-4c4c-a245-b6c827d55d0a"
   },
   "outputs": [
    {
     "data": {
      "text/plain": [
       "count    303.000000\n",
       "mean     131.623762\n",
       "std       17.538143\n",
       "min       94.000000\n",
       "25%      120.000000\n",
       "50%      130.000000\n",
       "75%      140.000000\n",
       "max      200.000000\n",
       "Name: trestbps, dtype: float64"
      ]
     },
     "execution_count": 67,
     "metadata": {},
     "output_type": "execute_result"
    }
   ],
   "source": [
    "df['trestbps'].describe()"
   ]
  },
  {
   "cell_type": "code",
   "execution_count": 68,
   "metadata": {
    "colab": {
     "base_uri": "https://localhost:8080/",
     "height": 282
    },
    "id": "f877gXKH5Fnc",
    "outputId": "6b4453c2-027e-4830-95a2-4c5a49a248db"
   },
   "outputs": [
    {
     "data": {
      "text/plain": [
       "<AxesSubplot:ylabel='Frequency'>"
      ]
     },
     "execution_count": 68,
     "metadata": {},
     "output_type": "execute_result"
    },
    {
     "data": {
      "image/png": "[encoded data removed]",
      "text/plain": [
       "<Figure size 432x288 with 1 Axes>"
      ]
     },
     "metadata": {
      "needs_background": "light"
     },
     "output_type": "display_data"
    }
   ],
   "source": [
    "df['trestbps'].plot(kind='hist', xlabel='trestbps', ylabel='Frecuencia')"
   ]
  },
  {
   "cell_type": "code",
   "execution_count": 69,
   "metadata": {
    "colab": {
     "base_uri": "https://localhost:8080/",
     "height": 296
    },
    "id": "d8ZdU6POZhF0",
    "outputId": "1ca07772-1185-4757-e014-f8d44a5ab17a"
   },
   "outputs": [
    {
     "data": {
      "text/plain": [
       "<AxesSubplot:xlabel='trestbps'>"
      ]
     },
     "execution_count": 69,
     "metadata": {},
     "output_type": "execute_result"
    },
    {
     "data": {
      "image/png": "[encoded data removed]",
      "text/plain": [
       "<Figure size 432x288 with 1 Axes>"
      ]
     },
     "metadata": {
      "needs_background": "light"
     },
     "output_type": "display_data"
    }
   ],
   "source": [
    "sns.boxplot(data=df, x='trestbps')"
   ]
  },
  {
   "cell_type": "code",
   "execution_count": 70,
   "metadata": {
    "colab": {
     "base_uri": "https://localhost:8080/"
    },
    "id": "4mJ3qHpcmndT",
    "outputId": "cd2f56e2-3c3d-46dd-c448-d644f7b74184"
   },
   "outputs": [
    {
     "data": {
      "text/plain": [
       "[200, 192]"
      ]
     },
     "execution_count": 70,
     "metadata": {},
     "output_type": "execute_result"
    }
   ],
   "source": [
    "# Valores que exeden 3 desviaciones estandar\n",
    "mean = df.trestbps.mean()\n",
    "std = df.trestbps.std()\n",
    "[x for x in df.trestbps if ((x > mean + 3 * std) or (x < mean - 3 * std)) ]"
   ]
  },
  {
   "cell_type": "markdown",
   "metadata": {
    "id": "zO4177yvm_FW"
   },
   "source": [
    "## Atributo cp\n"
   ]
  },
  {
   "cell_type": "code",
   "execution_count": 71,
   "metadata": {
    "colab": {
     "base_uri": "https://localhost:8080/"
    },
    "id": "hvTC63LynFAV",
    "outputId": "9eb3ff6d-1633-4ced-b033-ec1a93c78eab"
   },
   "outputs": [
    {
     "data": {
      "text/plain": [
       "count    303.000000\n",
       "mean       0.966997\n",
       "std        1.032052\n",
       "min        0.000000\n",
       "25%        0.000000\n",
       "50%        1.000000\n",
       "75%        2.000000\n",
       "max        3.000000\n",
       "Name: cp, dtype: float64"
      ]
     },
     "execution_count": 71,
     "metadata": {},
     "output_type": "execute_result"
    }
   ],
   "source": [
    "df['cp'].describe()"
   ]
  },
  {
   "cell_type": "code",
   "execution_count": 72,
   "metadata": {
    "colab": {
     "base_uri": "https://localhost:8080/"
    },
    "id": "CBUgRYVOnKJL",
    "outputId": "9b1a5bbc-cefa-4d09-c8e3-217baa92717f"
   },
   "outputs": [
    {
     "data": {
      "text/plain": [
       "4"
      ]
     },
     "execution_count": 72,
     "metadata": {},
     "output_type": "execute_result"
    }
   ],
   "source": [
    "len(pd.unique(df['cp'])) # Valores unicos"
   ]
  },
  {
   "cell_type": "code",
   "execution_count": 73,
   "metadata": {
    "colab": {
     "base_uri": "https://localhost:8080/",
     "height": 293
    },
    "id": "HSm-guUkoADa",
    "outputId": "f0cbf3d7-332a-4a56-f6eb-f7c9d2ee8d41"
   },
   "outputs": [
    {
     "data": {
      "text/plain": [
       "<AxesSubplot:xlabel='cp', ylabel='Frecuencia'>"
      ]
     },
     "execution_count": 73,
     "metadata": {},
     "output_type": "execute_result"
    },
    {
     "data": {
      "image/png": "[encoded data removed]",
      "text/plain": [
       "<Figure size 432x288 with 1 Axes>"
      ]
     },
     "metadata": {
      "needs_background": "light"
     },
     "output_type": "display_data"
    }
   ],
   "source": [
    "df['cp'].value_counts().plot(kind='bar', xlabel='cp', ylabel='Frecuencia')"
   ]
  },
  {
   "cell_type": "markdown",
   "metadata": {
    "id": "5XC_9XAfpKdZ"
   },
   "source": [
    "## Atributo thalach\n",
    "Maximun hear rate ahieved\n"
   ]
  },
  {
   "cell_type": "code",
   "execution_count": 74,
   "metadata": {
    "colab": {
     "base_uri": "https://localhost:8080/"
    },
    "id": "wFdb6WmqpXqU",
    "outputId": "bac20d60-487e-4df7-e8ab-dcd83fd4ef54"
   },
   "outputs": [
    {
     "data": {
      "text/plain": [
       "91"
      ]
     },
     "execution_count": 74,
     "metadata": {},
     "output_type": "execute_result"
    }
   ],
   "source": [
    "len(pd.unique(df['thalach']))"
   ]
  },
  {
   "cell_type": "code",
   "execution_count": 75,
   "metadata": {
    "colab": {
     "base_uri": "https://localhost:8080/"
    },
    "id": "udpaMOA1pROQ",
    "outputId": "5990c579-4720-4de2-b3e0-7fe704980d0b"
   },
   "outputs": [
    {
     "data": {
      "text/plain": [
       "count    303.000000\n",
       "mean     149.646865\n",
       "std       22.905161\n",
       "min       71.000000\n",
       "25%      133.500000\n",
       "50%      153.000000\n",
       "75%      166.000000\n",
       "max      202.000000\n",
       "Name: thalach, dtype: float64"
      ]
     },
     "execution_count": 75,
     "metadata": {},
     "output_type": "execute_result"
    }
   ],
   "source": [
    "df['thalach'].describe()\n"
   ]
  },
  {
   "cell_type": "code",
   "execution_count": 76,
   "metadata": {
    "colab": {
     "base_uri": "https://localhost:8080/",
     "height": 284
    },
    "id": "eVqxdnheqqnX",
    "outputId": "d91b0676-09cf-4352-cab4-9ab971d26767"
   },
   "outputs": [
    {
     "data": {
      "text/plain": [
       "<AxesSubplot:ylabel='Frequency'>"
      ]
     },
     "execution_count": 76,
     "metadata": {},
     "output_type": "execute_result"
    },
    {
     "data": {
      "image/png": "[encoded data removed]",
      "text/plain": [
       "<Figure size 432x288 with 1 Axes>"
      ]
     },
     "metadata": {
      "needs_background": "light"
     },
     "output_type": "display_data"
    }
   ],
   "source": [
    "df['thalach'].plot(kind='hist', xlabel='thalach', ylabel='Frecuencia')"
   ]
  },
  {
   "cell_type": "code",
   "execution_count": 77,
   "metadata": {
    "colab": {
     "base_uri": "https://localhost:8080/",
     "height": 296
    },
    "id": "M0sT084r5vzy",
    "outputId": "c96ab10c-0bcc-4c40-99ab-de24390dd688"
   },
   "outputs": [
    {
     "data": {
      "text/plain": [
       "<AxesSubplot:xlabel='thalach', ylabel='Count'>"
      ]
     },
     "execution_count": 77,
     "metadata": {},
     "output_type": "execute_result"
    },
    {
     "data": {
      "image/png": "[encoded data removed]",
      "text/plain": [
       "<Figure size 432x288 with 1 Axes>"
      ]
     },
     "metadata": {
      "needs_background": "light"
     },
     "output_type": "display_data"
    }
   ],
   "source": [
    "sns.histplot(data=df, x='thalach', hue='HeartDisease', multiple=\"dodge\")"
   ]
  },
  {
   "cell_type": "markdown",
   "metadata": {
    "id": "YlCN7w8n6-lt"
   },
   "source": [
    "( HeartDisease: 1 = No heart dissease, 0 = heart dissease)\n",
    "\n",
    "Podemos observar que si el paciente presenta un alto ritmo cardiaco (mayor de 150bpm) las posibilidades de que sufra una cardiopatía disminuyen. La mayoría de los casos de cardiopatía se da cuando el paciente presenta un ritmo cardíaco menor a 140bpm"
   ]
  },
  {
   "cell_type": "code",
   "execution_count": 78,
   "metadata": {
    "colab": {
     "base_uri": "https://localhost:8080/",
     "height": 386
    },
    "id": "WKjRbp0W-ryQ",
    "outputId": "1bbc16c7-38d9-48e8-d797-865a5cdbeeed"
   },
   "outputs": [
    {
     "data": {
      "text/plain": [
       "<seaborn.axisgrid.FacetGrid at 0x7f7ca3caeee0>"
      ]
     },
     "execution_count": 78,
     "metadata": {},
     "output_type": "execute_result"
    },
    {
     "data": {
      "image/png": "[encoded data removed]",
      "text/plain": [
       "<Figure size 435.25x360 with 1 Axes>"
      ]
     },
     "metadata": {
      "needs_background": "light"
     },
     "output_type": "display_data"
    }
   ],
   "source": [
    "sns.displot(data=df, x='thalach', hue='HeartDisease')"
   ]
  },
  {
   "cell_type": "code",
   "execution_count": 79,
   "metadata": {
    "colab": {
     "base_uri": "https://localhost:8080/",
     "height": 386
    },
    "id": "3YaP_Yg9BzAH",
    "outputId": "0233ab68-26d7-4fd7-f4a3-89f38a8d8c75"
   },
   "outputs": [
    {
     "data": {
      "text/plain": [
       "<seaborn.axisgrid.FacetGrid at 0x7f7ca39b8490>"
      ]
     },
     "execution_count": 79,
     "metadata": {},
     "output_type": "execute_result"
    },
    {
     "data": {
      "image/png": "[encoded data removed]",
      "text/plain": [
       "<Figure size 360x360 with 1 Axes>"
      ]
     },
     "metadata": {
      "needs_background": "light"
     },
     "output_type": "display_data"
    }
   ],
   "source": [
    "sns.displot(data=df, x=\"thalach\", y=\"chol\")"
   ]
  },
  {
   "cell_type": "code",
   "execution_count": 80,
   "metadata": {
    "colab": {
     "base_uri": "https://localhost:8080/",
     "height": 296
    },
    "id": "9-CXXMouDD30",
    "outputId": "68156e47-b063-4ad4-c28a-f4e54e012273"
   },
   "outputs": [
    {
     "data": {
      "text/plain": [
       "<AxesSubplot:xlabel='HeartDisease', ylabel='thalach'>"
      ]
     },
     "execution_count": 80,
     "metadata": {},
     "output_type": "execute_result"
    },
    {
     "data": {
      "image/png": "[encoded data removed]",
      "text/plain": [
       "<Figure size 432x288 with 1 Axes>"
      ]
     },
     "metadata": {
      "needs_background": "light"
     },
     "output_type": "display_data"
    }
   ],
   "source": [
    "sns.boxplot(data=df[df.thalach.notna()], x='HeartDisease', y='thalach')"
   ]
  },
  {
   "cell_type": "code",
   "execution_count": 81,
   "metadata": {
    "colab": {
     "base_uri": "https://localhost:8080/"
    },
    "id": "rYlNh0ZBtNC7",
    "outputId": "306dbb18-2069-4359-cb82-e31ef738e2ce"
   },
   "outputs": [
    {
     "data": {
      "text/plain": [
       "[71]"
      ]
     },
     "execution_count": 81,
     "metadata": {},
     "output_type": "execute_result"
    }
   ],
   "source": [
    "[x for x in df.thalach if x <= 80 ]"
   ]
  },
  {
   "cell_type": "markdown",
   "metadata": {},
   "source": [
    "## Atributo chol"
   ]
  },
  {
   "cell_type": "code",
   "execution_count": 82,
   "metadata": {},
   "outputs": [
    {
     "data": {
      "text/plain": [
       "<AxesSubplot:xlabel='chol'>"
      ]
     },
     "execution_count": 82,
     "metadata": {},
     "output_type": "execute_result"
    },
    {
     "data": {
      "image/png": "[encoded data removed]",
      "text/plain": [
       "<Figure size 432x288 with 1 Axes>"
      ]
     },
     "metadata": {
      "needs_background": "light"
     },
     "output_type": "display_data"
    }
   ],
   "source": [
    "sns.boxplot(data=df, x='chol')"
   ]
  },
  {
   "cell_type": "markdown",
   "metadata": {
    "id": "yH8XDVzqukAs"
   },
   "source": [
    "## Atributo oldpeak \n",
    "ST depression induced by exercise relative to rest"
   ]
  },
  {
   "cell_type": "code",
   "execution_count": 83,
   "metadata": {
    "colab": {
     "base_uri": "https://localhost:8080/"
    },
    "id": "DMXGyujaumED",
    "outputId": "56f52f13-5ee4-4a6a-a6dc-db167c00766c"
   },
   "outputs": [
    {
     "data": {
      "text/plain": [
       "count    303.000000\n",
       "mean       1.039604\n",
       "std        1.161075\n",
       "min        0.000000\n",
       "25%        0.000000\n",
       "50%        0.800000\n",
       "75%        1.600000\n",
       "max        6.200000\n",
       "Name: oldpeak, dtype: float64"
      ]
     },
     "execution_count": 83,
     "metadata": {},
     "output_type": "execute_result"
    }
   ],
   "source": [
    "df.oldpeak.describe().transpose()"
   ]
  },
  {
   "cell_type": "code",
   "execution_count": 84,
   "metadata": {
    "colab": {
     "base_uri": "https://localhost:8080/"
    },
    "id": "UZuHoYYKvd7A",
    "outputId": "7aa420d2-755a-450f-cf36-225df4a1ccfd"
   },
   "outputs": [
    {
     "data": {
      "text/plain": [
       "0.8"
      ]
     },
     "execution_count": 84,
     "metadata": {},
     "output_type": "execute_result"
    }
   ],
   "source": [
    "df.oldpeak.median()"
   ]
  },
  {
   "cell_type": "code",
   "execution_count": 85,
   "metadata": {
    "colab": {
     "base_uri": "https://localhost:8080/"
    },
    "id": "yWpgqKOkvhDB",
    "outputId": "064cae6c-0186-4359-c97f-255b1d223cf0"
   },
   "outputs": [
    {
     "data": {
      "text/plain": [
       "0    0.0\n",
       "dtype: float64"
      ]
     },
     "execution_count": 85,
     "metadata": {},
     "output_type": "execute_result"
    }
   ],
   "source": [
    "df.oldpeak.mode()"
   ]
  },
  {
   "cell_type": "code",
   "execution_count": 86,
   "metadata": {
    "colab": {
     "base_uri": "https://localhost:8080/",
     "height": 282
    },
    "id": "ZkZVTBrQvn-N",
    "outputId": "4d65d38a-fab1-413d-9470-0bc11bd2a136"
   },
   "outputs": [
    {
     "data": {
      "text/plain": [
       "<AxesSubplot:ylabel='Frequency'>"
      ]
     },
     "execution_count": 86,
     "metadata": {},
     "output_type": "execute_result"
    },
    {
     "data": {
      "image/png": "[encoded data removed]",
      "text/plain": [
       "<Figure size 432x288 with 1 Axes>"
      ]
     },
     "metadata": {
      "needs_background": "light"
     },
     "output_type": "display_data"
    }
   ],
   "source": [
    "df.oldpeak.value_counts().plot(kind='hist', xlabel='oldpeak', ylabel='Frecuencia')"
   ]
  },
  {
   "cell_type": "code",
   "execution_count": 87,
   "metadata": {
    "colab": {
     "base_uri": "https://localhost:8080/",
     "height": 296
    },
    "id": "RpKSfWpAv1ye",
    "outputId": "c609398d-a054-4e54-c876-85a60004697b"
   },
   "outputs": [
    {
     "data": {
      "text/plain": [
       "<AxesSubplot:xlabel='oldpeak'>"
      ]
     },
     "execution_count": 87,
     "metadata": {},
     "output_type": "execute_result"
    },
    {
     "data": {
      "image/png": "[encoded data removed]",
      "text/plain": [
       "<Figure size 432x288 with 1 Axes>"
      ]
     },
     "metadata": {
      "needs_background": "light"
     },
     "output_type": "display_data"
    }
   ],
   "source": [
    "sns.boxplot(data=df[df.age.notna()], x='oldpeak')"
   ]
  },
  {
   "cell_type": "markdown",
   "metadata": {
    "id": "PvOh81bjwXx8"
   },
   "source": [
    "Podemos obervar varias anomalias en los datos, lo que podría indicar una mala carga de datos o una manipulación de los mismos."
   ]
  },
  {
   "cell_type": "code",
   "execution_count": 88,
   "metadata": {
    "colab": {
     "base_uri": "https://localhost:8080/"
    },
    "id": "TX3pSTtfqKgE",
    "outputId": "fe37cfaf-7ac0-450f-fbaa-08101739e5a3"
   },
   "outputs": [
    {
     "data": {
      "text/plain": [
       "[6.2, 5.6]"
      ]
     },
     "execution_count": 88,
     "metadata": {},
     "output_type": "execute_result"
    }
   ],
   "source": [
    "# Valores que exeden 3 desviaciones estandar\n",
    "mean = df.oldpeak.mean()\n",
    "std = df.oldpeak.std()\n",
    "[x for x in df.oldpeak if ((x > mean + 3 * std) or (x < mean - 3 * std)) ]"
   ]
  },
  {
   "cell_type": "markdown",
   "metadata": {
    "id": "23wJm5v_w--V"
   },
   "source": [
    "## Atributo ca\n",
    "number of major vessels (0-3) colored by flourosopy"
   ]
  },
  {
   "cell_type": "code",
   "execution_count": 89,
   "metadata": {
    "colab": {
     "base_uri": "https://localhost:8080/",
     "height": 293
    },
    "id": "zAxySL16xESz",
    "outputId": "647643e3-50c5-4651-e128-eb6149fe3c4e"
   },
   "outputs": [
    {
     "data": {
      "text/plain": [
       "<AxesSubplot:xlabel='ca', ylabel='Frecuencia'>"
      ]
     },
     "execution_count": 89,
     "metadata": {},
     "output_type": "execute_result"
    },
    {
     "data": {
      "image/png": "[encoded data removed]",
      "text/plain": [
       "<Figure size 432x288 with 1 Axes>"
      ]
     },
     "metadata": {
      "needs_background": "light"
     },
     "output_type": "display_data"
    }
   ],
   "source": [
    "df.ca.value_counts().plot(kind='bar', xlabel='ca', ylabel='Frecuencia')"
   ]
  },
  {
   "cell_type": "markdown",
   "metadata": {
    "id": "oPahjXJPo8bL"
   },
   "source": [
    "## Atributo restcg\n"
   ]
  },
  {
   "cell_type": "code",
   "execution_count": 90,
   "metadata": {
    "colab": {
     "base_uri": "https://localhost:8080/",
     "height": 299
    },
    "id": "pl_7W4o5pBim",
    "outputId": "6b4d69b8-2748-4540-898c-ad18ce79e51f"
   },
   "outputs": [
    {
     "data": {
      "text/plain": [
       "<AxesSubplot:xlabel='restecg', ylabel='Count'>"
      ]
     },
     "execution_count": 90,
     "metadata": {},
     "output_type": "execute_result"
    },
    {
     "data": {
      "image/png": "[encoded data removed]",
      "text/plain": [
       "<Figure size 432x288 with 1 Axes>"
      ]
     },
     "metadata": {
      "needs_background": "light"
     },
     "output_type": "display_data"
    }
   ],
   "source": [
    "sns.histplot(data=df, x='restecg', hue='HeartDisease', multiple=\"dodge\")"
   ]
  },
  {
   "cell_type": "markdown",
   "metadata": {
    "id": "6YljXGp4reZI"
   },
   "source": [
    "## Atributo slope\n"
   ]
  },
  {
   "cell_type": "markdown",
   "metadata": {
    "id": "KR6gNpck2Kjh"
   },
   "source": [
    "Pendiente del pico de ejercicio de ST segment de un electrocardiograma."
   ]
  },
  {
   "cell_type": "code",
   "execution_count": 91,
   "metadata": {
    "colab": {
     "base_uri": "https://localhost:8080/"
    },
    "id": "zubOig0Prhgt",
    "outputId": "7c9b6325-57e4-45cc-effd-edcddebe8ff2"
   },
   "outputs": [
    {
     "data": {
      "text/plain": [
       "count    303.000000\n",
       "mean       0.729373\n",
       "std        1.022606\n",
       "min        0.000000\n",
       "25%        0.000000\n",
       "50%        0.000000\n",
       "75%        1.000000\n",
       "max        4.000000\n",
       "Name: ca, dtype: float64"
      ]
     },
     "execution_count": 91,
     "metadata": {},
     "output_type": "execute_result"
    }
   ],
   "source": [
    "df['ca'].describe()"
   ]
  },
  {
   "cell_type": "code",
   "execution_count": 92,
   "metadata": {
    "colab": {
     "base_uri": "https://localhost:8080/"
    },
    "id": "DkMliUHWtD0E",
    "outputId": "888d8231-de0b-42b3-a975-598d054b3808"
   },
   "outputs": [
    {
     "data": {
      "text/plain": [
       "3"
      ]
     },
     "execution_count": 92,
     "metadata": {},
     "output_type": "execute_result"
    }
   ],
   "source": [
    "len(pd.unique(df['slope']))"
   ]
  },
  {
   "cell_type": "code",
   "execution_count": 93,
   "metadata": {
    "colab": {
     "base_uri": "https://localhost:8080/"
    },
    "id": "oVDBJAlrtMsA",
    "outputId": "77d2db03-cf40-4c4b-d00d-09ba6ee608f3"
   },
   "outputs": [
    {
     "data": {
      "text/plain": [
       "array([0, 2, 1])"
      ]
     },
     "execution_count": 93,
     "metadata": {},
     "output_type": "execute_result"
    }
   ],
   "source": [
    "pd.unique(df['slope'])"
   ]
  },
  {
   "cell_type": "code",
   "execution_count": 94,
   "metadata": {
    "colab": {
     "base_uri": "https://localhost:8080/",
     "height": 293
    },
    "id": "0Rzw2qLvttv6",
    "outputId": "b0abad6b-5825-461d-f72c-49b486435323"
   },
   "outputs": [
    {
     "data": {
      "text/plain": [
       "<AxesSubplot:xlabel='slope', ylabel='Frecuencia'>"
      ]
     },
     "execution_count": 94,
     "metadata": {},
     "output_type": "execute_result"
    },
    {
     "data": {
      "image/png": "[encoded data removed]",
      "text/plain": [
       "<Figure size 432x288 with 1 Axes>"
      ]
     },
     "metadata": {
      "needs_background": "light"
     },
     "output_type": "display_data"
    }
   ],
   "source": [
    "df['slope'].value_counts().plot(kind='bar', xlabel='slope', ylabel='Frecuencia')"
   ]
  },
  {
   "cell_type": "code",
   "execution_count": 95,
   "metadata": {
    "colab": {
     "base_uri": "https://localhost:8080/",
     "height": 296
    },
    "id": "ZNtN4hip2EES",
    "outputId": "d62cfc8c-6d37-4604-d6d7-0e9be427bbd1"
   },
   "outputs": [
    {
     "data": {
      "text/plain": [
       "<AxesSubplot:xlabel='slope', ylabel='Count'>"
      ]
     },
     "execution_count": 95,
     "metadata": {},
     "output_type": "execute_result"
    },
    {
     "data": {
      "image/png": "[encoded data removed]",
      "text/plain": [
       "<Figure size 432x288 with 1 Axes>"
      ]
     },
     "metadata": {
      "needs_background": "light"
     },
     "output_type": "display_data"
    }
   ],
   "source": [
    "sns.histplot(data=df, x='slope', hue='HeartDisease', multiple=\"dodge\")"
   ]
  },
  {
   "cell_type": "markdown",
   "metadata": {
    "id": "MBDCN_gJ2h-q"
   },
   "source": [
    "(HeartDisease: 1 = No heart dissease, 0 = heart dissease)\n",
    "\n",
    "Podemos observar que cuando el paciente presenta un slope de 1 hay mas probabilidades de sufrir un infarto. Mientras que en el caso de presentar 0 la diferencia no es significativa.\n",
    "En el caso de presentar un slope de 2"
   ]
  },
  {
   "cell_type": "markdown",
   "metadata": {
    "id": "n-Y6DolyuWhk"
   },
   "source": [
    "## Atributo thal\n",
    "(1 = fixed defect; 2 = normal; 3 = reversable defect)"
   ]
  },
  {
   "cell_type": "code",
   "execution_count": 96,
   "metadata": {
    "colab": {
     "base_uri": "https://localhost:8080/"
    },
    "id": "90o_bgunuuzY",
    "outputId": "3d516bfb-ae27-4231-a7b4-eef22bbf716a"
   },
   "outputs": [
    {
     "data": {
      "text/plain": [
       "count    303.000000\n",
       "mean       2.313531\n",
       "std        0.612277\n",
       "min        0.000000\n",
       "25%        2.000000\n",
       "50%        2.000000\n",
       "75%        3.000000\n",
       "max        3.000000\n",
       "Name: thal, dtype: float64"
      ]
     },
     "execution_count": 96,
     "metadata": {},
     "output_type": "execute_result"
    }
   ],
   "source": [
    "df['thal'].describe()"
   ]
  },
  {
   "cell_type": "code",
   "execution_count": 97,
   "metadata": {
    "colab": {
     "base_uri": "https://localhost:8080/"
    },
    "id": "fXGn06uav3VS",
    "outputId": "2bbd8357-40e8-4150-b4fb-99339027064f"
   },
   "outputs": [
    {
     "data": {
      "text/plain": [
       "4"
      ]
     },
     "execution_count": 97,
     "metadata": {},
     "output_type": "execute_result"
    }
   ],
   "source": [
    "len(pd.unique(df['thal']))"
   ]
  },
  {
   "cell_type": "code",
   "execution_count": 98,
   "metadata": {
    "colab": {
     "base_uri": "https://localhost:8080/"
    },
    "id": "odMYRjeXwzUM",
    "outputId": "16c7f755-c37e-4184-99b9-5d88d49afc50"
   },
   "outputs": [
    {
     "data": {
      "text/plain": [
       "2    166\n",
       "3    117\n",
       "1     18\n",
       "0      2\n",
       "Name: thal, dtype: int64"
      ]
     },
     "execution_count": 98,
     "metadata": {},
     "output_type": "execute_result"
    }
   ],
   "source": [
    "df['thal'].value_counts()"
   ]
  },
  {
   "cell_type": "code",
   "execution_count": 99,
   "metadata": {
    "colab": {
     "base_uri": "https://localhost:8080/"
    },
    "id": "REOFGB_PwBSi",
    "outputId": "0c634771-5384-4644-ef6f-e0bab1491608"
   },
   "outputs": [
    {
     "data": {
      "text/plain": [
       "array([1, 2, 3, 0])"
      ]
     },
     "execution_count": 99,
     "metadata": {},
     "output_type": "execute_result"
    }
   ],
   "source": [
    "pd.unique(df['thal'])"
   ]
  },
  {
   "cell_type": "code",
   "execution_count": 100,
   "metadata": {
    "colab": {
     "base_uri": "https://localhost:8080/"
    },
    "id": "uw7ZzAPpwbXJ",
    "outputId": "c95cead1-1d30-42d1-bd59-0b9b320f60e8"
   },
   "outputs": [
    {
     "data": {
      "text/plain": [
       "<AxesSubplot:xlabel='thal', ylabel='Frecuencia'>"
      ]
     },
     "execution_count": 100,
     "metadata": {},
     "output_type": "execute_result"
    },
    {
     "data": {
      "image/png": "[encoded data removed]",
      "text/plain": [
       "<Figure size 432x288 with 1 Axes>"
      ]
     },
     "metadata": {
      "needs_background": "light"
     },
     "output_type": "display_data"
    }
   ],
   "source": [
    "df['thal'].value_counts().plot(kind='bar', xlabel='thal', ylabel='Frecuencia')"
   ]
  },
  {
   "cell_type": "code",
   "execution_count": 101,
   "metadata": {
    "colab": {
     "base_uri": "https://localhost:8080/",
     "height": 296
    },
    "id": "YVwF3ChDvPm9",
    "outputId": "b2ab957e-8e24-4af5-f34d-571b785abefb"
   },
   "outputs": [
    {
     "data": {
      "text/plain": [
       "<AxesSubplot:xlabel='thal', ylabel='Count'>"
      ]
     },
     "execution_count": 101,
     "metadata": {},
     "output_type": "execute_result"
    },
    {
     "data": {
      "image/png": "[encoded data removed]",
      "text/plain": [
       "<Figure size 432x288 with 1 Axes>"
      ]
     },
     "metadata": {
      "needs_background": "light"
     },
     "output_type": "display_data"
    }
   ],
   "source": [
    "sns.histplot(data=df, x='thal', hue='HeartDisease', multiple=\"dodge\")"
   ]
  },
  {
   "cell_type": "markdown",
   "metadata": {
    "id": "6yI2sKKPwDje"
   },
   "source": [
    "(HeartDisease: 1 = No heart dissease, 0 = heart dissease) \n",
    "Podemos ver que para los pacientes que se ha detectado que tienen un defecto (thal 0 o 1) se han detectado un número mayor de casos de infarto. Mientras que los pacientes que no tienen defecto (thal 2) en su mayoria no han tenido infartos.\n",
    "[link text](https://)"
   ]
  },
  {
   "cell_type": "markdown",
   "metadata": {
    "id": "xpfmNG5Z7Zqt"
   },
   "source": [
    "## Atributo fbs\n",
    "Fasting blood sugar. 1 si > 120 mg/dl, 0 en otro caso\n"
   ]
  },
  {
   "cell_type": "code",
   "execution_count": 102,
   "metadata": {
    "colab": {
     "base_uri": "https://localhost:8080/",
     "height": 293
    },
    "id": "GFuI_siG7rSW",
    "outputId": "ca863a5a-4303-42f6-a20c-cb6d4214a9ba"
   },
   "outputs": [
    {
     "data": {
      "text/plain": [
       "<AxesSubplot:xlabel='fbs', ylabel='Frecuencia'>"
      ]
     },
     "execution_count": 102,
     "metadata": {},
     "output_type": "execute_result"
    },
    {
     "data": {
      "image/png": "[encoded data removed]",
      "text/plain": [
       "<Figure size 432x288 with 1 Axes>"
      ]
     },
     "metadata": {
      "needs_background": "light"
     },
     "output_type": "display_data"
    }
   ],
   "source": [
    "df['fbs'].value_counts().plot(kind='bar', xlabel='fbs', ylabel='Frecuencia')"
   ]
  },
  {
   "cell_type": "code",
   "execution_count": 103,
   "metadata": {
    "colab": {
     "base_uri": "https://localhost:8080/",
     "height": 296
    },
    "id": "RiIMu57r8c9O",
    "outputId": "df0d33b5-65df-4a77-f52f-9c5b5edc90b6"
   },
   "outputs": [
    {
     "data": {
      "text/plain": [
       "<AxesSubplot:xlabel='fbs', ylabel='fbs'>"
      ]
     },
     "execution_count": 103,
     "metadata": {},
     "output_type": "execute_result"
    },
    {
     "data": {
      "image/png": "[encoded data removed]",
      "text/plain": [
       "<Figure size 432x288 with 1 Axes>"
      ]
     },
     "metadata": {
      "needs_background": "light"
     },
     "output_type": "display_data"
    }
   ],
   "source": [
    "sns.barplot(data=df, x='fbs', hue='HeartDisease', y=df['fbs'].value_counts())"
   ]
  },
  {
   "cell_type": "code",
   "execution_count": 104,
   "metadata": {
    "colab": {
     "base_uri": "https://localhost:8080/"
    },
    "id": "-NdVZXQ4-0rZ",
    "outputId": "d077077e-cf33-4bf0-afff-192353dc62bd"
   },
   "outputs": [
    {
     "data": {
      "text/plain": [
       "0    258\n",
       "1     45\n",
       "Name: fbs, dtype: int64"
      ]
     },
     "execution_count": 104,
     "metadata": {},
     "output_type": "execute_result"
    }
   ],
   "source": [
    "df['fbs'].value_counts()\n"
   ]
  },
  {
   "cell_type": "markdown",
   "metadata": {
    "id": "G1spzbxuuOAB"
   },
   "source": [
    "## Atributo exang\n",
    "Excercise induced angina\n",
    "1 = yes\n",
    "0 = no"
   ]
  },
  {
   "cell_type": "code",
   "execution_count": 105,
   "metadata": {
    "colab": {
     "base_uri": "https://localhost:8080/"
    },
    "id": "wT4GR2GjubIs",
    "outputId": "fafc6364-5b9a-4f69-c81e-7292989d2f6d"
   },
   "outputs": [
    {
     "data": {
      "text/plain": [
       "<AxesSubplot:xlabel='exang', ylabel='Frecuencia'>"
      ]
     },
     "execution_count": 105,
     "metadata": {},
     "output_type": "execute_result"
    },
    {
     "data": {
      "image/png": "[encoded data removed]",
      "text/plain": [
       "<Figure size 432x288 with 1 Axes>"
      ]
     },
     "metadata": {
      "needs_background": "light"
     },
     "output_type": "display_data"
    }
   ],
   "source": [
    "df['exang'].value_counts().plot(kind='bar', xlabel='exang', ylabel='Frecuencia')"
   ]
  },
  {
   "cell_type": "markdown",
   "metadata": {
    "id": "puGTKsX6zy71"
   },
   "source": [
    "## Atributo HeartDisease\n",
    "(0: Heart disease; 1: No Heart disease)\n"
   ]
  },
  {
   "cell_type": "code",
   "execution_count": 106,
   "metadata": {
    "colab": {
     "base_uri": "https://localhost:8080/"
    },
    "id": "U1zoCuHo0sDD",
    "outputId": "a565f516-a8e1-4842-ba51-7ec8497fd6c1"
   },
   "outputs": [
    {
     "data": {
      "text/plain": [
       "no     165\n",
       "yes    138\n",
       "Name: HeartDisease, dtype: int64"
      ]
     },
     "execution_count": 106,
     "metadata": {},
     "output_type": "execute_result"
    }
   ],
   "source": [
    "df['HeartDisease'].value_counts()"
   ]
  },
  {
   "cell_type": "code",
   "execution_count": 107,
   "metadata": {
    "colab": {
     "base_uri": "https://localhost:8080/"
    },
    "id": "9AXhpp_Gz4Mj",
    "outputId": "eace809e-48f9-4dce-92e3-fcc7a787c51e"
   },
   "outputs": [
    {
     "data": {
      "text/plain": [
       "<AxesSubplot:xlabel='HeartDisease', ylabel='Frecuencia'>"
      ]
     },
     "execution_count": 107,
     "metadata": {},
     "output_type": "execute_result"
    },
    {
     "data": {
      "image/png": "[encoded data removed]",
      "text/plain": [
       "<Figure size 432x288 with 1 Axes>"
      ]
     },
     "metadata": {
      "needs_background": "light"
     },
     "output_type": "display_data"
    }
   ],
   "source": [
    "df['HeartDisease'].value_counts().plot(kind='bar', xlabel='HeartDisease', ylabel='Frecuencia')"
   ]
  },
  {
   "cell_type": "markdown",
   "metadata": {
    "id": "mah1sJpmE46-"
   },
   "source": [
    "# Preparación de los datos\n",
    "\n"
   ]
  },
  {
   "cell_type": "code",
   "execution_count": 108,
   "metadata": {
    "id": "7OfYMQBiFMRW"
   },
   "outputs": [],
   "source": [
    "#Eliminar duplicados\n",
    "df = df.drop_duplicates(keep='first', inplace=False)"
   ]
  },
  {
   "cell_type": "code",
   "execution_count": 109,
   "metadata": {
    "colab": {
     "base_uri": "https://localhost:8080/"
    },
    "id": "l6tq5KooRvVv",
    "outputId": "6f9ce421-547c-4907-a3be-92c4f25e532b"
   },
   "outputs": [
    {
     "data": {
      "text/plain": [
       "0    175\n",
       "1     65\n",
       "2     38\n",
       "3     20\n",
       "Name: ca, dtype: int64"
      ]
     },
     "execution_count": 109,
     "metadata": {},
     "output_type": "execute_result"
    }
   ],
   "source": [
    "# Eliminamos los valores de ca que estan fuera del dominio\n",
    "# y su cantidad no es representativa\n",
    "valores_aceptados = [0,1,2,3]\n",
    "df = df[df.ca.isin(valores_aceptados)]\n",
    "df.ca.value_counts()"
   ]
  },
  {
   "cell_type": "code",
   "execution_count": 110,
   "metadata": {
    "colab": {
     "base_uri": "https://localhost:8080/"
    },
    "id": "xcU7mp87XpgF",
    "outputId": "9dce84c5-a8ea-4db8-8f0f-fd7f985655a4"
   },
   "outputs": [
    {
     "data": {
      "text/plain": [
       "2    163\n",
       "3    115\n",
       "1     18\n",
       "Name: thal, dtype: int64"
      ]
     },
     "execution_count": 110,
     "metadata": {},
     "output_type": "execute_result"
    }
   ],
   "source": [
    "valores_aceptados = [1,2,3]\n",
    "df = df[df.thal.isin(valores_aceptados)]\n",
    "df.thal.value_counts()"
   ]
  },
  {
   "cell_type": "markdown",
   "metadata": {
    "id": "_CwOeBj0Yo6F"
   },
   "source": [
    "# Modelado: Árbol de clasificación\n",
    "\n"
   ]
  },
  {
   "cell_type": "markdown",
   "metadata": {
    "id": "x_aOyzJ8YsMn"
   },
   "source": [
    "## Árbol de decision con todos los atributos\n",
    "\n",
    "\n",
    "\n",
    "\n"
   ]
  },
  {
   "cell_type": "code",
   "execution_count": 111,
   "metadata": {
    "id": "eaxU_lsZY5dc"
   },
   "outputs": [],
   "source": [
    "from sklearn import tree\n",
    "from sklearn.model_selection import train_test_split\n",
    "from sklearn import metrics\n",
    "from matplotlib import pyplot as plt\n",
    "from sklearn.model_selection import KFold, cross_val_score, cross_validate"
   ]
  },
  {
   "cell_type": "markdown",
   "metadata": {},
   "source": [
    "## Entrenamiento del modelo"
   ]
  },
  {
   "cell_type": "code",
   "execution_count": 112,
   "metadata": {
    "colab": {
     "base_uri": "https://localhost:8080/"
    },
    "id": "-XZ2jhocZaWi",
    "outputId": "ff95ce11-7c38-435a-e29d-c7909c6b4982"
   },
   "outputs": [
    {
     "name": "stdout",
     "output_type": "stream",
     "text": [
      "Avg accuracy: 0.815 with std: 0.119\n"
     ]
    }
   ],
   "source": [
    "predict = df\n",
    "# predictores = ['age', 'sex', 'cp', 'trestbps', 'chol', 'fbs', 'restecg', 'thalach', \n",
    "# 'exang', 'oldpeak', 'slope', 'ca', 'thal']\n",
    "predictores = ['sex','ca','thal']\n",
    "#Eliminadas chol, fbs, slope, cp, trestbps, restecg, thalach, age, oldpeak, sex\n",
    "\n",
    "X = df[predictores]\n",
    "y = df.HeartDisease\n",
    "\n",
    "\n",
    "## Precisión con kfolds\n",
    "classifier = tree.DecisionTreeClassifier(criterion=\"entropy\")\n",
    "result = cross_val_score(classifier, X, y , cv = 20)\n",
    "print(\"Avg accuracy: %.3f with std: %.3f\" % (result.mean(),result.std()))"
   ]
  },
  {
   "cell_type": "markdown",
   "metadata": {},
   "source": [
    "## Evaluación del modelo"
   ]
  },
  {
   "cell_type": "code",
   "execution_count": 113,
   "metadata": {
    "colab": {
     "base_uri": "https://localhost:8080/",
     "height": 283
    },
    "id": "jMVPG2udecED",
    "outputId": "5f3297eb-28f0-4cf3-88ce-cd8679f9391a"
   },
   "outputs": [
    {
     "data": {
      "text/plain": [
       "<AxesSubplot:>"
      ]
     },
     "execution_count": 113,
     "metadata": {},
     "output_type": "execute_result"
    },
    {
     "data": {
      "image/png": "[encoded data removed]",
      "text/plain": [
       "<Figure size 432x288 with 2 Axes>"
      ]
     },
     "metadata": {
      "needs_background": "light"
     },
     "output_type": "display_data"
    }
   ],
   "source": [
    "X_train, X_test, y_train, y_test = train_test_split(X, y, test_size=0.2, random_state=42, stratify=y)\n",
    "classifier.fit(X_train,y_train)\n",
    "# Test model\n",
    "y_pred = classifier.predict(X_test)\n",
    "# Get confusion matrix\n",
    "mat = metrics.confusion_matrix(y_test, y_pred)\n",
    "sns.heatmap(mat, annot=True, cmap='Blues')"
   ]
  },
  {
   "cell_type": "code",
   "execution_count": 114,
   "metadata": {
    "colab": {
     "base_uri": "https://localhost:8080/"
    },
    "id": "VQJCPlCMej3J",
    "outputId": "c86021b2-a64e-44b5-feb2-f79e100fc832"
   },
   "outputs": [
    {
     "name": "stdout",
     "output_type": "stream",
     "text": [
      "0.8166666666666667\n"
     ]
    }
   ],
   "source": [
    "acc = metrics.accuracy_score(y_test, y_pred)\n",
    "print(acc)"
   ]
  },
  {
   "cell_type": "code",
   "execution_count": 115,
   "metadata": {
    "colab": {
     "base_uri": "https://localhost:8080/"
    },
    "id": "cVAwtsnuenBk",
    "outputId": "5b61816c-f9f6-41b6-f948-73357f17f8f3"
   },
   "outputs": [
    {
     "name": "stdout",
     "output_type": "stream",
     "text": [
      "              precision    recall  f1-score   support\n",
      "\n",
      "          no       0.82      0.84      0.83        32\n",
      "         yes       0.81      0.79      0.80        28\n",
      "\n",
      "    accuracy                           0.82        60\n",
      "   macro avg       0.82      0.81      0.82        60\n",
      "weighted avg       0.82      0.82      0.82        60\n",
      "\n"
     ]
    }
   ],
   "source": [
    "print(metrics.classification_report(y_test, y_pred))\n"
   ]
  },
  {
   "cell_type": "markdown",
   "metadata": {
    "id": "S62du3KGIVva"
   },
   "source": [
    "## Árbol de decision con 5 atributos\n"
   ]
  },
  {
   "cell_type": "markdown",
   "metadata": {
    "id": "LdwJbn7uJxY8"
   },
   "source": [
    "### Entrenamiento del modelo\n"
   ]
  },
  {
   "cell_type": "code",
   "execution_count": 116,
   "metadata": {
    "id": "x1TVpjaoIcRC"
   },
   "outputs": [
    {
     "name": "stdout",
     "output_type": "stream",
     "text": [
      "Avg accuracy: 0.652 with std: 0.070\n"
     ]
    }
   ],
   "source": [
    "predict = df\n",
    "predictores = ['age', 'thalach', 'fbs', 'chol','ca']\n",
    "\n",
    "X = df[predictores]\n",
    "y = df.HeartDisease\n",
    "\n",
    "\n",
    "\n",
    "## Precisión con kfolds\n",
    "classifier = tree.DecisionTreeClassifier(criterion=\"entropy\")\n",
    "result = cross_val_score(classifier, X, y , cv = 10)\n",
    "print(\"Avg accuracy: %.3f with std: %.3f\" % (result.mean(),result.std()))"
   ]
  },
  {
   "cell_type": "markdown",
   "metadata": {
    "id": "odaprKc7J0j2"
   },
   "source": [
    "### Evaluación del modelo\n"
   ]
  },
  {
   "cell_type": "code",
   "execution_count": 117,
   "metadata": {
    "colab": {
     "base_uri": "https://localhost:8080/"
    },
    "id": "2l7x7DwyJ4aU",
    "outputId": "04369417-8905-488c-bf77-1f4e485e177f"
   },
   "outputs": [
    {
     "data": {
      "text/plain": [
       "<AxesSubplot:>"
      ]
     },
     "execution_count": 117,
     "metadata": {},
     "output_type": "execute_result"
    },
    {
     "data": {
      "image/png": "[encoded data removed]",
      "text/plain": [
       "<Figure size 432x288 with 2 Axes>"
      ]
     },
     "metadata": {
      "needs_background": "light"
     },
     "output_type": "display_data"
    }
   ],
   "source": [
    "X_train, X_test, y_train, y_test = train_test_split(X, y, test_size=0.2, random_state=42, stratify=y)\n",
    "classifier.fit(X_train,y_train)\n",
    "# Test model\n",
    "y_pred = classifier.predict(X_test)\n",
    "# Get confusion matrix\n",
    "mat = metrics.confusion_matrix(y_test, y_pred)\n",
    "sns.heatmap(mat, annot=True, cmap='Blues')"
   ]
  },
  {
   "cell_type": "code",
   "execution_count": 118,
   "metadata": {
    "colab": {
     "base_uri": "https://localhost:8080/"
    },
    "id": "ioSwX1gDOurV",
    "outputId": "f4d9aa39-6d8d-465a-b95c-b8ebcdbf1aad"
   },
   "outputs": [
    {
     "name": "stdout",
     "output_type": "stream",
     "text": [
      "0.8\n"
     ]
    }
   ],
   "source": [
    "acc = metrics.accuracy_score(y_test, y_pred)\n",
    "print(acc)"
   ]
  },
  {
   "cell_type": "code",
   "execution_count": 119,
   "metadata": {
    "colab": {
     "base_uri": "https://localhost:8080/"
    },
    "id": "WXUk5IRzOw6T",
    "outputId": "b0cba544-8e4e-4cf5-aedd-ef3b145813ef"
   },
   "outputs": [
    {
     "name": "stdout",
     "output_type": "stream",
     "text": [
      "              precision    recall  f1-score   support\n",
      "\n",
      "          no       0.78      0.88      0.82        32\n",
      "         yes       0.83      0.71      0.77        28\n",
      "\n",
      "    accuracy                           0.80        60\n",
      "   macro avg       0.81      0.79      0.80        60\n",
      "weighted avg       0.80      0.80      0.80        60\n",
      "\n"
     ]
    }
   ],
   "source": [
    "print(metrics.classification_report(y_test, y_pred))"
   ]
  },
  {
   "cell_type": "markdown",
   "metadata": {
    "id": "UvWgpkVwPCxB"
   },
   "source": [
    "## Árbol de decisión con\n"
   ]
  },
  {
   "cell_type": "code",
   "execution_count": 120,
   "metadata": {
    "colab": {
     "base_uri": "https://localhost:8080/"
    },
    "id": "GDivaPOhPIDx",
    "outputId": "1db5a188-c5bb-4a18-8183-f4c10c739c29"
   },
   "outputs": [
    {
     "data": {
      "text/plain": [
       "Index(['age', 'sex', 'cp', 'trestbps', 'chol', 'fbs', 'restecg', 'thalach',\n",
       "       'exang', 'oldpeak', 'slope', 'ca', 'thal', 'HeartDisease'],\n",
       "      dtype='object')"
      ]
     },
     "execution_count": 120,
     "metadata": {},
     "output_type": "execute_result"
    }
   ],
   "source": [
    "df.keys()"
   ]
  },
  {
   "cell_type": "markdown",
   "metadata": {
    "id": "_j3pkDemPKtt"
   },
   "source": [
    "### Entrenamiento del modelo FALTA ELEGIR PREDICTORES"
   ]
  },
  {
   "cell_type": "code",
   "execution_count": 121,
   "metadata": {
    "id": "m9nmki6KPNTp"
   },
   "outputs": [],
   "source": [
    "predict = df\n",
    "predictores = ['age']\n",
    "X = df[predictores]\n",
    "y = df.HeartDisease\n",
    "\n",
    "# Split dataset into train and test datasets\n",
    "X_train, X_test, y_train, y_test = train_test_split(X, y, test_size=0.2, random_state=42, stratify=y)\n",
    "\n",
    "# Choose model with default parameters\n",
    "classifier = tree.DecisionTreeClassifier()\n",
    "# Train model with train dataset\n",
    "classifier = classifier.fit(X_train, y_train)"
   ]
  },
  {
   "cell_type": "markdown",
   "metadata": {
    "id": "fk6T42lvPR0v"
   },
   "source": [
    "### Evaluación del modelo"
   ]
  },
  {
   "cell_type": "code",
   "execution_count": 122,
   "metadata": {
    "colab": {
     "base_uri": "https://localhost:8080/",
     "height": 286
    },
    "id": "97CT53-1PWLa",
    "outputId": "893d6320-cd28-4adc-9c1f-b0c507f6674f"
   },
   "outputs": [
    {
     "data": {
      "text/plain": [
       "<AxesSubplot:>"
      ]
     },
     "execution_count": 122,
     "metadata": {},
     "output_type": "execute_result"
    },
    {
     "data": {
      "image/png": "[encoded data removed]",
      "text/plain": [
       "<Figure size 432x288 with 2 Axes>"
      ]
     },
     "metadata": {
      "needs_background": "light"
     },
     "output_type": "display_data"
    }
   ],
   "source": [
    "# Test model\n",
    "y_pred = classifier.predict(X_test)\n",
    "# Get confusion matrix\n",
    "mat = metrics.confusion_matrix(y_test, y_pred)\n",
    "sns.heatmap(mat, annot=True, cmap='Blues')"
   ]
  },
  {
   "cell_type": "code",
   "execution_count": 123,
   "metadata": {
    "colab": {
     "base_uri": "https://localhost:8080/"
    },
    "id": "bvnPDNCwPW7E",
    "outputId": "f7d6b665-b076-4ea4-d702-a16f41e2aebd"
   },
   "outputs": [
    {
     "name": "stdout",
     "output_type": "stream",
     "text": [
      "0.65\n"
     ]
    }
   ],
   "source": [
    "acc = metrics.accuracy_score(y_test, y_pred)\n",
    "print(acc)"
   ]
  },
  {
   "cell_type": "code",
   "execution_count": 124,
   "metadata": {
    "colab": {
     "base_uri": "https://localhost:8080/"
    },
    "id": "2N_Dq_lYPZH-",
    "outputId": "bdc67b2d-4b04-426f-d4be-17e021502105"
   },
   "outputs": [
    {
     "name": "stdout",
     "output_type": "stream",
     "text": [
      "              precision    recall  f1-score   support\n",
      "\n",
      "          no       0.68      0.66      0.67        32\n",
      "         yes       0.62      0.64      0.63        28\n",
      "\n",
      "    accuracy                           0.65        60\n",
      "   macro avg       0.65      0.65      0.65        60\n",
      "weighted avg       0.65      0.65      0.65        60\n",
      "\n"
     ]
    }
   ],
   "source": [
    "print(metrics.classification_report(y_test, y_pred))"
   ]
  },
  {
   "cell_type": "markdown",
   "metadata": {
    "id": "J-TPolx3QOi5"
   },
   "source": [
    "# Modelado: Naïve Bayes\n",
    "\n",
    "Asumimos que hay independencia entre los elementos de las tuplas\n"
   ]
  },
  {
   "cell_type": "code",
   "execution_count": 125,
   "metadata": {},
   "outputs": [
    {
     "data": {
      "text/plain": [
       "Index(['age', 'sex', 'cp', 'trestbps', 'chol', 'fbs', 'restecg', 'thalach',\n",
       "       'exang', 'oldpeak', 'slope', 'ca', 'thal', 'HeartDisease'],\n",
       "      dtype='object')"
      ]
     },
     "execution_count": 125,
     "metadata": {},
     "output_type": "execute_result"
    }
   ],
   "source": [
    "df.keys()"
   ]
  },
  {
   "cell_type": "code",
   "execution_count": 126,
   "metadata": {
    "id": "nVasTl2lW_jl"
   },
   "outputs": [
    {
     "name": "stdout",
     "output_type": "stream",
     "text": [
      "0.7166666666666667\n",
      "              precision    recall  f1-score   support\n",
      "\n",
      "          no       0.48      0.54      0.51        28\n",
      "         yes       0.55      0.50      0.52        32\n",
      "\n",
      "    accuracy                           0.52        60\n",
      "   macro avg       0.52      0.52      0.52        60\n",
      "weighted avg       0.52      0.52      0.52        60\n",
      "\n"
     ]
    }
   ],
   "source": [
    "from sklearn.model_selection import train_test_split\n",
    "from sklearn.naive_bayes import GaussianNB\n",
    "from sklearn import metrics\n",
    "\n",
    "predictores = ['sex', 'ca', 'thal']\n",
    "X = df[predictores]\n",
    "y = df.HeartDisease\n",
    "X_train, X_test, y_train, y_test = train_test_split(X, y, test_size=0.2, random_state=0)\n",
    "\n",
    "gnb = GaussianNB()\n",
    "gnb.fit(X_train, y_train)\n",
    "print(gnb.score(X_test, y_test))\n",
    "print(metrics.classification_report(y_test, y_pred))"
   ]
  },
  {
   "cell_type": "markdown",
   "metadata": {
    "id": "OtvUSxAwfnm7"
   },
   "source": [
    "# Modelado: Red neuronal\n",
    "\n"
   ]
  },
  {
   "cell_type": "code",
   "execution_count": 127,
   "metadata": {
    "colab": {
     "base_uri": "https://localhost:8080/",
     "height": 561
    },
    "id": "KKjTM5n9fyoA",
    "outputId": "6fb59460-596d-4393-d2db-d23992739d74"
   },
   "outputs": [
    {
     "data": {
      "text/html": [
       "<div>\n",
       "<style scoped>\n",
       "    .dataframe tbody tr th:only-of-type {\n",
       "        vertical-align: middle;\n",
       "    }\n",
       "\n",
       "    .dataframe tbody tr th {\n",
       "        vertical-align: top;\n",
       "    }\n",
       "\n",
       "    .dataframe thead th {\n",
       "        text-align: right;\n",
       "    }\n",
       "</style>\n",
       "<table border=\"1\" class=\"dataframe\">\n",
       "  <thead>\n",
       "    <tr style=\"text-align: right;\">\n",
       "      <th></th>\n",
       "      <th>count</th>\n",
       "      <th>mean</th>\n",
       "      <th>std</th>\n",
       "      <th>min</th>\n",
       "      <th>25%</th>\n",
       "      <th>50%</th>\n",
       "      <th>75%</th>\n",
       "      <th>max</th>\n",
       "    </tr>\n",
       "  </thead>\n",
       "  <tbody>\n",
       "    <tr>\n",
       "      <th>age</th>\n",
       "      <td>296.0</td>\n",
       "      <td>54.523649</td>\n",
       "      <td>9.059471</td>\n",
       "      <td>29.00</td>\n",
       "      <td>48.000000</td>\n",
       "      <td>56.000000</td>\n",
       "      <td>61.000000</td>\n",
       "      <td>77.00</td>\n",
       "    </tr>\n",
       "    <tr>\n",
       "      <th>sex</th>\n",
       "      <td>296.0</td>\n",
       "      <td>0.679054</td>\n",
       "      <td>0.467631</td>\n",
       "      <td>0.00</td>\n",
       "      <td>0.000000</td>\n",
       "      <td>1.000000</td>\n",
       "      <td>1.000000</td>\n",
       "      <td>1.00</td>\n",
       "    </tr>\n",
       "    <tr>\n",
       "      <th>cp</th>\n",
       "      <td>296.0</td>\n",
       "      <td>0.959459</td>\n",
       "      <td>1.034184</td>\n",
       "      <td>0.00</td>\n",
       "      <td>0.000000</td>\n",
       "      <td>1.000000</td>\n",
       "      <td>2.000000</td>\n",
       "      <td>3.00</td>\n",
       "    </tr>\n",
       "    <tr>\n",
       "      <th>trestbps</th>\n",
       "      <td>296.0</td>\n",
       "      <td>131.604730</td>\n",
       "      <td>17.726620</td>\n",
       "      <td>94.00</td>\n",
       "      <td>120.000000</td>\n",
       "      <td>130.000000</td>\n",
       "      <td>140.000000</td>\n",
       "      <td>200.00</td>\n",
       "    </tr>\n",
       "    <tr>\n",
       "      <th>chol</th>\n",
       "      <td>296.0</td>\n",
       "      <td>247.155405</td>\n",
       "      <td>51.977011</td>\n",
       "      <td>126.00</td>\n",
       "      <td>211.000000</td>\n",
       "      <td>242.500000</td>\n",
       "      <td>275.250000</td>\n",
       "      <td>564.00</td>\n",
       "    </tr>\n",
       "    <tr>\n",
       "      <th>fbs</th>\n",
       "      <td>296.0</td>\n",
       "      <td>0.145270</td>\n",
       "      <td>0.352970</td>\n",
       "      <td>0.00</td>\n",
       "      <td>0.000000</td>\n",
       "      <td>0.000000</td>\n",
       "      <td>0.000000</td>\n",
       "      <td>1.00</td>\n",
       "    </tr>\n",
       "    <tr>\n",
       "      <th>restecg</th>\n",
       "      <td>296.0</td>\n",
       "      <td>0.523649</td>\n",
       "      <td>0.526692</td>\n",
       "      <td>0.00</td>\n",
       "      <td>0.000000</td>\n",
       "      <td>1.000000</td>\n",
       "      <td>1.000000</td>\n",
       "      <td>2.00</td>\n",
       "    </tr>\n",
       "    <tr>\n",
       "      <th>thalach</th>\n",
       "      <td>296.0</td>\n",
       "      <td>149.560811</td>\n",
       "      <td>22.970792</td>\n",
       "      <td>71.00</td>\n",
       "      <td>133.000000</td>\n",
       "      <td>152.500000</td>\n",
       "      <td>166.000000</td>\n",
       "      <td>202.00</td>\n",
       "    </tr>\n",
       "    <tr>\n",
       "      <th>exang</th>\n",
       "      <td>296.0</td>\n",
       "      <td>0.327703</td>\n",
       "      <td>0.470171</td>\n",
       "      <td>0.00</td>\n",
       "      <td>0.000000</td>\n",
       "      <td>0.000000</td>\n",
       "      <td>1.000000</td>\n",
       "      <td>1.00</td>\n",
       "    </tr>\n",
       "    <tr>\n",
       "      <th>oldpeak</th>\n",
       "      <td>296.0</td>\n",
       "      <td>1.059122</td>\n",
       "      <td>1.166474</td>\n",
       "      <td>0.00</td>\n",
       "      <td>0.000000</td>\n",
       "      <td>0.800000</td>\n",
       "      <td>1.650000</td>\n",
       "      <td>6.20</td>\n",
       "    </tr>\n",
       "    <tr>\n",
       "      <th>slope</th>\n",
       "      <td>296.0</td>\n",
       "      <td>1.395270</td>\n",
       "      <td>0.618235</td>\n",
       "      <td>0.00</td>\n",
       "      <td>1.000000</td>\n",
       "      <td>1.000000</td>\n",
       "      <td>2.000000</td>\n",
       "      <td>2.00</td>\n",
       "    </tr>\n",
       "    <tr>\n",
       "      <th>ca</th>\n",
       "      <td>296.0</td>\n",
       "      <td>0.679054</td>\n",
       "      <td>0.939726</td>\n",
       "      <td>0.00</td>\n",
       "      <td>0.000000</td>\n",
       "      <td>0.000000</td>\n",
       "      <td>1.000000</td>\n",
       "      <td>3.00</td>\n",
       "    </tr>\n",
       "    <tr>\n",
       "      <th>thal</th>\n",
       "      <td>296.0</td>\n",
       "      <td>2.327703</td>\n",
       "      <td>0.585743</td>\n",
       "      <td>1.00</td>\n",
       "      <td>2.000000</td>\n",
       "      <td>2.000000</td>\n",
       "      <td>3.000000</td>\n",
       "      <td>3.00</td>\n",
       "    </tr>\n",
       "    <tr>\n",
       "      <th>Age_norm</th>\n",
       "      <td>296.0</td>\n",
       "      <td>0.545236</td>\n",
       "      <td>0.090595</td>\n",
       "      <td>0.29</td>\n",
       "      <td>0.480000</td>\n",
       "      <td>0.560000</td>\n",
       "      <td>0.610000</td>\n",
       "      <td>0.77</td>\n",
       "    </tr>\n",
       "    <tr>\n",
       "      <th>trestbps_norm</th>\n",
       "      <td>296.0</td>\n",
       "      <td>0.354762</td>\n",
       "      <td>0.167232</td>\n",
       "      <td>0.00</td>\n",
       "      <td>0.245283</td>\n",
       "      <td>0.339623</td>\n",
       "      <td>0.433962</td>\n",
       "      <td>1.00</td>\n",
       "    </tr>\n",
       "    <tr>\n",
       "      <th>chol_norm</th>\n",
       "      <td>296.0</td>\n",
       "      <td>0.276611</td>\n",
       "      <td>0.118669</td>\n",
       "      <td>0.00</td>\n",
       "      <td>0.194064</td>\n",
       "      <td>0.265982</td>\n",
       "      <td>0.340753</td>\n",
       "      <td>1.00</td>\n",
       "    </tr>\n",
       "    <tr>\n",
       "      <th>oldpeak_norm</th>\n",
       "      <td>296.0</td>\n",
       "      <td>0.170826</td>\n",
       "      <td>0.188141</td>\n",
       "      <td>0.00</td>\n",
       "      <td>0.000000</td>\n",
       "      <td>0.129032</td>\n",
       "      <td>0.266129</td>\n",
       "      <td>1.00</td>\n",
       "    </tr>\n",
       "    <tr>\n",
       "      <th>thalach_norm</th>\n",
       "      <td>296.0</td>\n",
       "      <td>0.599701</td>\n",
       "      <td>0.175350</td>\n",
       "      <td>0.00</td>\n",
       "      <td>0.473282</td>\n",
       "      <td>0.622137</td>\n",
       "      <td>0.725191</td>\n",
       "      <td>1.00</td>\n",
       "    </tr>\n",
       "  </tbody>\n",
       "</table>\n",
       "</div>"
      ],
      "text/plain": [
       "               count        mean        std     min         25%         50%  \\\n",
       "age            296.0   54.523649   9.059471   29.00   48.000000   56.000000   \n",
       "sex            296.0    0.679054   0.467631    0.00    0.000000    1.000000   \n",
       "cp             296.0    0.959459   1.034184    0.00    0.000000    1.000000   \n",
       "trestbps       296.0  131.604730  17.726620   94.00  120.000000  130.000000   \n",
       "chol           296.0  247.155405  51.977011  126.00  211.000000  242.500000   \n",
       "fbs            296.0    0.145270   0.352970    0.00    0.000000    0.000000   \n",
       "restecg        296.0    0.523649   0.526692    0.00    0.000000    1.000000   \n",
       "thalach        296.0  149.560811  22.970792   71.00  133.000000  152.500000   \n",
       "exang          296.0    0.327703   0.470171    0.00    0.000000    0.000000   \n",
       "oldpeak        296.0    1.059122   1.166474    0.00    0.000000    0.800000   \n",
       "slope          296.0    1.395270   0.618235    0.00    1.000000    1.000000   \n",
       "ca             296.0    0.679054   0.939726    0.00    0.000000    0.000000   \n",
       "thal           296.0    2.327703   0.585743    1.00    2.000000    2.000000   \n",
       "Age_norm       296.0    0.545236   0.090595    0.29    0.480000    0.560000   \n",
       "trestbps_norm  296.0    0.354762   0.167232    0.00    0.245283    0.339623   \n",
       "chol_norm      296.0    0.276611   0.118669    0.00    0.194064    0.265982   \n",
       "oldpeak_norm   296.0    0.170826   0.188141    0.00    0.000000    0.129032   \n",
       "thalach_norm   296.0    0.599701   0.175350    0.00    0.473282    0.622137   \n",
       "\n",
       "                      75%     max  \n",
       "age             61.000000   77.00  \n",
       "sex              1.000000    1.00  \n",
       "cp               2.000000    3.00  \n",
       "trestbps       140.000000  200.00  \n",
       "chol           275.250000  564.00  \n",
       "fbs              0.000000    1.00  \n",
       "restecg          1.000000    2.00  \n",
       "thalach        166.000000  202.00  \n",
       "exang            1.000000    1.00  \n",
       "oldpeak          1.650000    6.20  \n",
       "slope            2.000000    2.00  \n",
       "ca               1.000000    3.00  \n",
       "thal             3.000000    3.00  \n",
       "Age_norm         0.610000    0.77  \n",
       "trestbps_norm    0.433962    1.00  \n",
       "chol_norm        0.340753    1.00  \n",
       "oldpeak_norm     0.266129    1.00  \n",
       "thalach_norm     0.725191    1.00  "
      ]
     },
     "execution_count": 127,
     "metadata": {},
     "output_type": "execute_result"
    }
   ],
   "source": [
    "# Normalizamos todos los atributos posibles, ya que las redes neuronales\n",
    "# son altamente sensible a variaciones\n",
    "\n",
    "#normalizacion age\n",
    "df['Age_norm'] = df['age'].apply(lambda x: x/100)\n",
    "\n",
    "#normalizacion trestbps\n",
    "atr = 'trestbps'\n",
    "atr_new = atr + \"_norm\"\n",
    "max = df[atr].max()\n",
    "min = df[atr].min()\n",
    "df[atr_new] = df[atr].apply(lambda x: (x-min) / (max-min))\n",
    "\n",
    "#normalizacion chol\n",
    "atr = 'chol'\n",
    "atr_new = atr + \"_norm\"\n",
    "max = df[atr].max()\n",
    "min = df[atr].min()\n",
    "df[atr_new] = df[atr].apply(lambda x: (x-min) / (max-min))\n",
    "\n",
    "#normalizacion oldpeak\n",
    "atr = 'oldpeak'\n",
    "atr_new = atr + \"_norm\"\n",
    "max = df[atr].max()\n",
    "min = df[atr].min()\n",
    "df[atr_new] = df[atr].apply(lambda x: (x-min) / (max-min))\n",
    "\n",
    "#normalizacion thalach\n",
    "atr = 'thalach'\n",
    "atr_new = atr + \"_norm\"\n",
    "max = df[atr].max()\n",
    "min = df[atr].min()\n",
    "df[atr_new] = df[atr].apply(lambda x: (x-min) / (max-min))\n",
    "\n",
    "df.describe().transpose()"
   ]
  },
  {
   "cell_type": "code",
   "execution_count": 128,
   "metadata": {},
   "outputs": [],
   "source": [
    "atr = 'cp'\n",
    "df[atr] = df[atr].map({0 : atr+'_0',1 : atr+'_1',2 : atr+'_2',3 : atr+'_3',})\n",
    "dum = pd.get_dummies(df[atr])\n",
    "df = pd.concat([df,dum],axis=1)\n",
    "\n",
    "\n",
    "atr = 'restecg'\n",
    "df[atr] = df[atr].map({0 : atr+'_0',1 : atr+'_1',2 : atr+'_2'})\n",
    "dum = pd.get_dummies(df[atr])\n",
    "df = pd.concat([df,dum],axis=1)\n",
    "\n",
    "atr = 'slope'\n",
    "df[atr] = df[atr].map({0 : atr+'_0',1 : atr+'_1',2 : atr+'_2'})\n",
    "dum = pd.get_dummies(df[atr])\n",
    "df = pd.concat([df,dum],axis=1)\n",
    "\n",
    "atr = 'thal'\n",
    "df[atr] = df[atr].map({3 : atr+'_3',1 : atr+'_1',2 : atr+'_2'})\n",
    "dum = pd.get_dummies(df[atr])\n",
    "df = pd.concat([df,dum],axis=1)\n",
    "\n",
    "atr = 'ca'\n",
    "df[atr] = df[atr].map({0 : atr+'_0',1 : atr+'_1',2 : atr+'_2',3 : atr+'_3',})\n",
    "dum = pd.get_dummies(df[atr])\n",
    "df = pd.concat([df,dum],axis=1)\n",
    "\n",
    "atr = 'HeartDisease'\n",
    "df[atr] = df[atr].map({'yes' : 1,'no' : 0})"
   ]
  },
  {
   "cell_type": "code",
   "execution_count": 129,
   "metadata": {},
   "outputs": [
    {
     "data": {
      "text/plain": [
       "Index(['age', 'sex', 'cp', 'trestbps', 'chol', 'fbs', 'restecg', 'thalach',\n",
       "       'exang', 'oldpeak', 'slope', 'ca', 'thal', 'HeartDisease', 'Age_norm',\n",
       "       'trestbps_norm', 'chol_norm', 'oldpeak_norm', 'thalach_norm', 'cp_0',\n",
       "       'cp_1', 'cp_2', 'cp_3', 'restecg_0', 'restecg_1', 'restecg_2',\n",
       "       'slope_0', 'slope_1', 'slope_2', 'thal_1', 'thal_2', 'thal_3', 'ca_0',\n",
       "       'ca_1', 'ca_2', 'ca_3'],\n",
       "      dtype='object')"
      ]
     },
     "execution_count": 129,
     "metadata": {},
     "output_type": "execute_result"
    }
   ],
   "source": [
    "df.keys()"
   ]
  },
  {
   "cell_type": "code",
   "execution_count": 130,
   "metadata": {
    "id": "CYyKwozvh3H8"
   },
   "outputs": [
    {
     "name": "stdout",
     "output_type": "stream",
     "text": [
      "0.7702702702702703\n",
      "              precision    recall  f1-score   support\n",
      "\n",
      "           0       0.78      0.80      0.79        40\n",
      "           1       0.76      0.74      0.75        34\n",
      "\n",
      "    accuracy                           0.77        74\n",
      "   macro avg       0.77      0.77      0.77        74\n",
      "weighted avg       0.77      0.77      0.77        74\n",
      "\n"
     ]
    }
   ],
   "source": [
    "from sklearn.neural_network import MLPClassifier\n",
    "from sklearn.model_selection import train_test_split\n",
    "predictores = ['Age_norm','sex','fbs','exang',\n",
    "       'trestbps_norm', 'chol_norm', 'oldpeak_norm', 'thalach_norm', 'cp_0',\n",
    "       'cp_1', 'cp_2', 'cp_3', 'restecg_0', 'restecg_1', 'restecg_2',\n",
    "       'slope_0', 'slope_1', 'slope_2', 'thal_1', 'thal_2', 'thal_3',\n",
    "              'ca_0', 'ca_1', 'ca_2']\n",
    "X = df[predictores]\n",
    "y = df.HeartDisease\n",
    "X_train, X_test, y_train, y_test = train_test_split(X, y, stratify=y, random_state=1)\n",
    "clf = MLPClassifier(random_state=1, max_iter=3000).fit(X_train, y_train)\n",
    "print(clf.score(X_test, y_test))\n",
    "\n",
    "y_pred = clf.predict(X_test)\n",
    "print(metrics.classification_report(y_test, y_pred))\n"
   ]
  },
  {
   "cell_type": "code",
   "execution_count": 131,
   "metadata": {},
   "outputs": [
    {
     "name": "stdout",
     "output_type": "stream",
     "text": [
      "0.7297297297297297\n",
      "              precision    recall  f1-score   support\n",
      "\n",
      "           0       0.75      0.75      0.75        40\n",
      "           1       0.71      0.71      0.71        34\n",
      "\n",
      "    accuracy                           0.73        74\n",
      "   macro avg       0.73      0.73      0.73        74\n",
      "weighted avg       0.73      0.73      0.73        74\n",
      "\n"
     ]
    }
   ],
   "source": [
    "from sklearn.neural_network import MLPClassifier\n",
    "from sklearn.model_selection import train_test_split\n",
    "predictores = ['Age_norm', 'fbs', 'chol_norm', 'thalach_norm',\n",
    "              'ca_0', 'ca_1', 'ca_2']\n",
    "X = df[predictores]\n",
    "y = df.HeartDisease\n",
    "X_train, X_test, y_train, y_test = train_test_split(X, y, stratify=y, random_state=1)\n",
    "clf = MLPClassifier(random_state=1, max_iter=3000).fit(X_train, y_train)\n",
    "print(clf.score(X_test, y_test))\n",
    "\n",
    "y_pred = clf.predict(X_test)\n",
    "print(metrics.classification_report(y_test, y_pred))"
   ]
  },
  {
   "cell_type": "code",
   "execution_count": 132,
   "metadata": {},
   "outputs": [
    {
     "name": "stdout",
     "output_type": "stream",
     "text": [
      "0.7972972972972973\n",
      "              precision    recall  f1-score   support\n",
      "\n",
      "           0       0.79      0.85      0.82        40\n",
      "           1       0.81      0.74      0.77        34\n",
      "\n",
      "    accuracy                           0.80        74\n",
      "   macro avg       0.80      0.79      0.79        74\n",
      "weighted avg       0.80      0.80      0.80        74\n",
      "\n"
     ]
    }
   ],
   "source": [
    "from sklearn.neural_network import MLPClassifier\n",
    "from sklearn.model_selection import train_test_split\n",
    "predictores = ['Age_norm','sex','exang',\n",
    "       'trestbps_norm', 'chol_norm', 'oldpeak_norm', 'thalach_norm', 'cp_0',\n",
    "       'cp_1', 'cp_2', 'cp_3', 'restecg_0', 'restecg_1', 'restecg_2',\n",
    "       'slope_0', 'slope_1', 'slope_2', 'thal_1', 'thal_2', 'thal_3',\n",
    "              'ca_0', 'ca_1', 'ca_2']\n",
    "X = df[predictores]\n",
    "y = df.HeartDisease\n",
    "X_train, X_test, y_train, y_test = train_test_split(X, y, stratify=y, random_state=1)\n",
    "clf = MLPClassifier(random_state=1, max_iter=3000).fit(X_train, y_train)\n",
    "print(clf.score(X_test, y_test))\n",
    "\n",
    "y_pred = clf.predict(X_test)\n",
    "print(metrics.classification_report(y_test, y_pred))"
   ]
  },
  {
   "cell_type": "code",
   "execution_count": 133,
   "metadata": {},
   "outputs": [
    {
     "name": "stdout",
     "output_type": "stream",
     "text": [
      "0.8108108108108109\n",
      "              precision    recall  f1-score   support\n",
      "\n",
      "           0       0.77      0.93      0.84        40\n",
      "           1       0.88      0.68      0.77        34\n",
      "\n",
      "    accuracy                           0.81        74\n",
      "   macro avg       0.83      0.80      0.80        74\n",
      "weighted avg       0.82      0.81      0.81        74\n",
      "\n"
     ]
    }
   ],
   "source": [
    "predictores = ['fbs','exang','thal_1', 'thal_2', 'thal_3','ca_0', 'ca_1', 'ca_2']\n",
    "X = df[predictores]\n",
    "y = df.HeartDisease\n",
    "X_train, X_test, y_train, y_test = train_test_split(X, y, stratify=y, random_state=1)\n",
    "clf = MLPClassifier(random_state=1, max_iter=3000).fit(X_train, y_train)\n",
    "print(clf.score(X_test, y_test))\n",
    "\n",
    "y_pred = clf.predict(X_test)\n",
    "print(metrics.classification_report(y_test, y_pred))\n"
   ]
  },
  {
   "cell_type": "code",
   "execution_count": 697,
   "metadata": {},
   "outputs": [
    {
     "name": "stdout",
     "output_type": "stream",
     "text": [
      "0.7297297297297297\n",
      "              precision    recall  f1-score   support\n",
      "\n",
      "           0       0.81      0.65      0.72        40\n",
      "           1       0.67      0.82      0.74        34\n",
      "\n",
      "    accuracy                           0.73        74\n",
      "   macro avg       0.74      0.74      0.73        74\n",
      "weighted avg       0.75      0.73      0.73        74\n",
      "\n"
     ]
    }
   ],
   "source": [
    "from sklearn.neural_network import MLPClassifier\n",
    "from sklearn.model_selection import train_test_split\n",
    "predictores = ['sex', 'thal_1', 'thal_2', 'thal_3', 'ca_0', 'ca_1', 'ca_2']\n",
    "X = df[predictores]\n",
    "y = df.HeartDisease\n",
    "X_train, X_test, y_train, y_test = train_test_split(X, y, stratify=y, random_state=1)\n",
    "clf = MLPClassifier(random_state=1, max_iter=3000).fit(X_train, y_train)\n",
    "print(clf.score(X_test, y_test))\n",
    "\n",
    "y_pred = clf.predict(X_test)\n",
    "print(metrics.classification_report(y_test, y_pred))"
   ]
  }
 ],
 "metadata": {
  "colab": {
   "collapsed_sections": [],
   "name": "tp1.ipynb",
   "provenance": [],
   "toc_visible": true
  },
  "kernelspec": {
   "display_name": "Python 3",
   "language": "python",
   "name": "python3"
  },
  "language_info": {
   "codemirror_mode": {
    "name": "ipython",
    "version": 3
   },
   "file_extension": ".py",
   "mimetype": "text/x-python",
   "name": "python",
   "nbconvert_exporter": "python",
   "pygments_lexer": "ipython3",
   "version": "3.8.5"
  }
 },
 "nbformat": 4,
 "nbformat_minor": 1
}
